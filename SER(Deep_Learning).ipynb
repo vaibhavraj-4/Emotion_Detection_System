{
 "cells": [
  {
   "cell_type": "markdown",
   "metadata": {
    "colab_type": "text",
    "id": "CjWvnaQUrZmD"
   },
   "source": [
    "# Speech Emotion Recognition using the RAVDESS AND TESS dataset"
   ]
  },
  {
   "cell_type": "markdown",
   "metadata": {
    "colab_type": "text",
    "id": "uxVUuvOQnG_H"
   },
   "source": [
    "For this task, I have used 5252 samples from\n",
    "\n",
    "the Ryerson Audio-Visual Database of Emotional Speech and Song (RAVDESS) dataset\n",
    "the Toronto emotional speech set (TESS) dataset\n",
    "The samples include:\n",
    "\n",
    "**1440 **speech files and **1012** Song files from **RAVDESS**. This dataset includes recordings of 24 professional actors (12 female, 12 male), vocalizing two lexically-matched statements in a neutral North American accent. Speech includes calm, happy, sad, angry, fearful, surprise, and disgust expressions, and song contains calm, happy, sad, angry, and fearful emotions. Each file was rated 10 times on emotional validity, intensity, and genuineness. Ratings were provided by 247 individuals who were characteristic of untrained adult research participants from North America. A further set of 72 participants provided test-retest data. High levels of emotional validity, interrater reliability, and test-retest intrarater reliability were reported. Validation data is open-access, and can be downloaded along with our paper from PLoS ONE.\n",
    "\n",
    "**2800** files from **TESS**. A set of 200 target words were spoken in the carrier phrase \"Say the word _____' by two actresses (aged 26 and 64 years) and recordings were made of the set portraying each of seven emotions (anger, disgust, fear, happiness, pleasant surprise, sadness, and neutral). There are 2800 stimuli in total. Two actresses were recruited from the Toronto area. Both actresses speak English as their first language, are university educated, and have musical training. Audiometric testing indicated that both actresses have thresholds within the normal range."
   ]
  },
  {
   "cell_type": "code",
   "execution_count": 1,
   "metadata": {
    "colab": {},
    "colab_type": "code",
    "id": "iMEMavtnu2LB"
   },
   "outputs": [],
   "source": [
    "# Loading saved models\n",
    "import joblib\n",
    "X = joblib.load('Ravtess/X.joblib')\n",
    "y = joblib.load('Ravtess/y.joblib')"
   ]
  },
  {
   "cell_type": "markdown",
   "metadata": {
    "colab_type": "text",
    "id": "Agw-3KN1sDhh"
   },
   "source": [
    "# Decision Tree Classifier\n",
    "\n",
    "To make a first attempt in accomplishing this classification task I chose a decision tree:"
   ]
  },
  {
   "cell_type": "code",
   "execution_count": 2,
   "metadata": {
    "colab": {},
    "colab_type": "code",
    "id": "CR4t166IxGdi"
   },
   "outputs": [],
   "source": [
    "from sklearn.model_selection import train_test_split\n",
    "\n",
    "X_train, X_test, y_train, y_test = train_test_split(X,y, test_size=0.33, random_state=42)"
   ]
  },
  {
   "cell_type": "code",
   "execution_count": 3,
   "metadata": {
    "colab": {},
    "colab_type": "code",
    "id": "L_aIVuq9xKgn"
   },
   "outputs": [],
   "source": [
    "from sklearn.tree import DecisionTreeClassifier"
   ]
  },
  {
   "cell_type": "code",
   "execution_count": 4,
   "metadata": {
    "colab": {},
    "colab_type": "code",
    "id": "PRh12VK70wwh"
   },
   "outputs": [],
   "source": [
    "dtree = DecisionTreeClassifier()"
   ]
  },
  {
   "cell_type": "code",
   "execution_count": 5,
   "metadata": {
    "colab": {
     "base_uri": "https://localhost:8080/",
     "height": 122
    },
    "colab_type": "code",
    "id": "jBbgNaz50zPt",
    "outputId": "9c63f143-8108-426a-d682-36284c1634dc"
   },
   "outputs": [
    {
     "data": {
      "text/html": [
       "<style>#sk-container-id-1 {\n",
       "  /* Definition of color scheme common for light and dark mode */\n",
       "  --sklearn-color-text: #000;\n",
       "  --sklearn-color-text-muted: #666;\n",
       "  --sklearn-color-line: gray;\n",
       "  /* Definition of color scheme for unfitted estimators */\n",
       "  --sklearn-color-unfitted-level-0: #fff5e6;\n",
       "  --sklearn-color-unfitted-level-1: #f6e4d2;\n",
       "  --sklearn-color-unfitted-level-2: #ffe0b3;\n",
       "  --sklearn-color-unfitted-level-3: chocolate;\n",
       "  /* Definition of color scheme for fitted estimators */\n",
       "  --sklearn-color-fitted-level-0: #f0f8ff;\n",
       "  --sklearn-color-fitted-level-1: #d4ebff;\n",
       "  --sklearn-color-fitted-level-2: #b3dbfd;\n",
       "  --sklearn-color-fitted-level-3: cornflowerblue;\n",
       "\n",
       "  /* Specific color for light theme */\n",
       "  --sklearn-color-text-on-default-background: var(--sg-text-color, var(--theme-code-foreground, var(--jp-content-font-color1, black)));\n",
       "  --sklearn-color-background: var(--sg-background-color, var(--theme-background, var(--jp-layout-color0, white)));\n",
       "  --sklearn-color-border-box: var(--sg-text-color, var(--theme-code-foreground, var(--jp-content-font-color1, black)));\n",
       "  --sklearn-color-icon: #696969;\n",
       "\n",
       "  @media (prefers-color-scheme: dark) {\n",
       "    /* Redefinition of color scheme for dark theme */\n",
       "    --sklearn-color-text-on-default-background: var(--sg-text-color, var(--theme-code-foreground, var(--jp-content-font-color1, white)));\n",
       "    --sklearn-color-background: var(--sg-background-color, var(--theme-background, var(--jp-layout-color0, #111)));\n",
       "    --sklearn-color-border-box: var(--sg-text-color, var(--theme-code-foreground, var(--jp-content-font-color1, white)));\n",
       "    --sklearn-color-icon: #878787;\n",
       "  }\n",
       "}\n",
       "\n",
       "#sk-container-id-1 {\n",
       "  color: var(--sklearn-color-text);\n",
       "}\n",
       "\n",
       "#sk-container-id-1 pre {\n",
       "  padding: 0;\n",
       "}\n",
       "\n",
       "#sk-container-id-1 input.sk-hidden--visually {\n",
       "  border: 0;\n",
       "  clip: rect(1px 1px 1px 1px);\n",
       "  clip: rect(1px, 1px, 1px, 1px);\n",
       "  height: 1px;\n",
       "  margin: -1px;\n",
       "  overflow: hidden;\n",
       "  padding: 0;\n",
       "  position: absolute;\n",
       "  width: 1px;\n",
       "}\n",
       "\n",
       "#sk-container-id-1 div.sk-dashed-wrapped {\n",
       "  border: 1px dashed var(--sklearn-color-line);\n",
       "  margin: 0 0.4em 0.5em 0.4em;\n",
       "  box-sizing: border-box;\n",
       "  padding-bottom: 0.4em;\n",
       "  background-color: var(--sklearn-color-background);\n",
       "}\n",
       "\n",
       "#sk-container-id-1 div.sk-container {\n",
       "  /* jupyter's `normalize.less` sets `[hidden] { display: none; }`\n",
       "     but bootstrap.min.css set `[hidden] { display: none !important; }`\n",
       "     so we also need the `!important` here to be able to override the\n",
       "     default hidden behavior on the sphinx rendered scikit-learn.org.\n",
       "     See: https://github.com/scikit-learn/scikit-learn/issues/21755 */\n",
       "  display: inline-block !important;\n",
       "  position: relative;\n",
       "}\n",
       "\n",
       "#sk-container-id-1 div.sk-text-repr-fallback {\n",
       "  display: none;\n",
       "}\n",
       "\n",
       "div.sk-parallel-item,\n",
       "div.sk-serial,\n",
       "div.sk-item {\n",
       "  /* draw centered vertical line to link estimators */\n",
       "  background-image: linear-gradient(var(--sklearn-color-text-on-default-background), var(--sklearn-color-text-on-default-background));\n",
       "  background-size: 2px 100%;\n",
       "  background-repeat: no-repeat;\n",
       "  background-position: center center;\n",
       "}\n",
       "\n",
       "/* Parallel-specific style estimator block */\n",
       "\n",
       "#sk-container-id-1 div.sk-parallel-item::after {\n",
       "  content: \"\";\n",
       "  width: 100%;\n",
       "  border-bottom: 2px solid var(--sklearn-color-text-on-default-background);\n",
       "  flex-grow: 1;\n",
       "}\n",
       "\n",
       "#sk-container-id-1 div.sk-parallel {\n",
       "  display: flex;\n",
       "  align-items: stretch;\n",
       "  justify-content: center;\n",
       "  background-color: var(--sklearn-color-background);\n",
       "  position: relative;\n",
       "}\n",
       "\n",
       "#sk-container-id-1 div.sk-parallel-item {\n",
       "  display: flex;\n",
       "  flex-direction: column;\n",
       "}\n",
       "\n",
       "#sk-container-id-1 div.sk-parallel-item:first-child::after {\n",
       "  align-self: flex-end;\n",
       "  width: 50%;\n",
       "}\n",
       "\n",
       "#sk-container-id-1 div.sk-parallel-item:last-child::after {\n",
       "  align-self: flex-start;\n",
       "  width: 50%;\n",
       "}\n",
       "\n",
       "#sk-container-id-1 div.sk-parallel-item:only-child::after {\n",
       "  width: 0;\n",
       "}\n",
       "\n",
       "/* Serial-specific style estimator block */\n",
       "\n",
       "#sk-container-id-1 div.sk-serial {\n",
       "  display: flex;\n",
       "  flex-direction: column;\n",
       "  align-items: center;\n",
       "  background-color: var(--sklearn-color-background);\n",
       "  padding-right: 1em;\n",
       "  padding-left: 1em;\n",
       "}\n",
       "\n",
       "\n",
       "/* Toggleable style: style used for estimator/Pipeline/ColumnTransformer box that is\n",
       "clickable and can be expanded/collapsed.\n",
       "- Pipeline and ColumnTransformer use this feature and define the default style\n",
       "- Estimators will overwrite some part of the style using the `sk-estimator` class\n",
       "*/\n",
       "\n",
       "/* Pipeline and ColumnTransformer style (default) */\n",
       "\n",
       "#sk-container-id-1 div.sk-toggleable {\n",
       "  /* Default theme specific background. It is overwritten whether we have a\n",
       "  specific estimator or a Pipeline/ColumnTransformer */\n",
       "  background-color: var(--sklearn-color-background);\n",
       "}\n",
       "\n",
       "/* Toggleable label */\n",
       "#sk-container-id-1 label.sk-toggleable__label {\n",
       "  cursor: pointer;\n",
       "  display: flex;\n",
       "  width: 100%;\n",
       "  margin-bottom: 0;\n",
       "  padding: 0.5em;\n",
       "  box-sizing: border-box;\n",
       "  text-align: center;\n",
       "  align-items: start;\n",
       "  justify-content: space-between;\n",
       "  gap: 0.5em;\n",
       "}\n",
       "\n",
       "#sk-container-id-1 label.sk-toggleable__label .caption {\n",
       "  font-size: 0.6rem;\n",
       "  font-weight: lighter;\n",
       "  color: var(--sklearn-color-text-muted);\n",
       "}\n",
       "\n",
       "#sk-container-id-1 label.sk-toggleable__label-arrow:before {\n",
       "  /* Arrow on the left of the label */\n",
       "  content: \"▸\";\n",
       "  float: left;\n",
       "  margin-right: 0.25em;\n",
       "  color: var(--sklearn-color-icon);\n",
       "}\n",
       "\n",
       "#sk-container-id-1 label.sk-toggleable__label-arrow:hover:before {\n",
       "  color: var(--sklearn-color-text);\n",
       "}\n",
       "\n",
       "/* Toggleable content - dropdown */\n",
       "\n",
       "#sk-container-id-1 div.sk-toggleable__content {\n",
       "  max-height: 0;\n",
       "  max-width: 0;\n",
       "  overflow: hidden;\n",
       "  text-align: left;\n",
       "  /* unfitted */\n",
       "  background-color: var(--sklearn-color-unfitted-level-0);\n",
       "}\n",
       "\n",
       "#sk-container-id-1 div.sk-toggleable__content.fitted {\n",
       "  /* fitted */\n",
       "  background-color: var(--sklearn-color-fitted-level-0);\n",
       "}\n",
       "\n",
       "#sk-container-id-1 div.sk-toggleable__content pre {\n",
       "  margin: 0.2em;\n",
       "  border-radius: 0.25em;\n",
       "  color: var(--sklearn-color-text);\n",
       "  /* unfitted */\n",
       "  background-color: var(--sklearn-color-unfitted-level-0);\n",
       "}\n",
       "\n",
       "#sk-container-id-1 div.sk-toggleable__content.fitted pre {\n",
       "  /* unfitted */\n",
       "  background-color: var(--sklearn-color-fitted-level-0);\n",
       "}\n",
       "\n",
       "#sk-container-id-1 input.sk-toggleable__control:checked~div.sk-toggleable__content {\n",
       "  /* Expand drop-down */\n",
       "  max-height: 200px;\n",
       "  max-width: 100%;\n",
       "  overflow: auto;\n",
       "}\n",
       "\n",
       "#sk-container-id-1 input.sk-toggleable__control:checked~label.sk-toggleable__label-arrow:before {\n",
       "  content: \"▾\";\n",
       "}\n",
       "\n",
       "/* Pipeline/ColumnTransformer-specific style */\n",
       "\n",
       "#sk-container-id-1 div.sk-label input.sk-toggleable__control:checked~label.sk-toggleable__label {\n",
       "  color: var(--sklearn-color-text);\n",
       "  background-color: var(--sklearn-color-unfitted-level-2);\n",
       "}\n",
       "\n",
       "#sk-container-id-1 div.sk-label.fitted input.sk-toggleable__control:checked~label.sk-toggleable__label {\n",
       "  background-color: var(--sklearn-color-fitted-level-2);\n",
       "}\n",
       "\n",
       "/* Estimator-specific style */\n",
       "\n",
       "/* Colorize estimator box */\n",
       "#sk-container-id-1 div.sk-estimator input.sk-toggleable__control:checked~label.sk-toggleable__label {\n",
       "  /* unfitted */\n",
       "  background-color: var(--sklearn-color-unfitted-level-2);\n",
       "}\n",
       "\n",
       "#sk-container-id-1 div.sk-estimator.fitted input.sk-toggleable__control:checked~label.sk-toggleable__label {\n",
       "  /* fitted */\n",
       "  background-color: var(--sklearn-color-fitted-level-2);\n",
       "}\n",
       "\n",
       "#sk-container-id-1 div.sk-label label.sk-toggleable__label,\n",
       "#sk-container-id-1 div.sk-label label {\n",
       "  /* The background is the default theme color */\n",
       "  color: var(--sklearn-color-text-on-default-background);\n",
       "}\n",
       "\n",
       "/* On hover, darken the color of the background */\n",
       "#sk-container-id-1 div.sk-label:hover label.sk-toggleable__label {\n",
       "  color: var(--sklearn-color-text);\n",
       "  background-color: var(--sklearn-color-unfitted-level-2);\n",
       "}\n",
       "\n",
       "/* Label box, darken color on hover, fitted */\n",
       "#sk-container-id-1 div.sk-label.fitted:hover label.sk-toggleable__label.fitted {\n",
       "  color: var(--sklearn-color-text);\n",
       "  background-color: var(--sklearn-color-fitted-level-2);\n",
       "}\n",
       "\n",
       "/* Estimator label */\n",
       "\n",
       "#sk-container-id-1 div.sk-label label {\n",
       "  font-family: monospace;\n",
       "  font-weight: bold;\n",
       "  display: inline-block;\n",
       "  line-height: 1.2em;\n",
       "}\n",
       "\n",
       "#sk-container-id-1 div.sk-label-container {\n",
       "  text-align: center;\n",
       "}\n",
       "\n",
       "/* Estimator-specific */\n",
       "#sk-container-id-1 div.sk-estimator {\n",
       "  font-family: monospace;\n",
       "  border: 1px dotted var(--sklearn-color-border-box);\n",
       "  border-radius: 0.25em;\n",
       "  box-sizing: border-box;\n",
       "  margin-bottom: 0.5em;\n",
       "  /* unfitted */\n",
       "  background-color: var(--sklearn-color-unfitted-level-0);\n",
       "}\n",
       "\n",
       "#sk-container-id-1 div.sk-estimator.fitted {\n",
       "  /* fitted */\n",
       "  background-color: var(--sklearn-color-fitted-level-0);\n",
       "}\n",
       "\n",
       "/* on hover */\n",
       "#sk-container-id-1 div.sk-estimator:hover {\n",
       "  /* unfitted */\n",
       "  background-color: var(--sklearn-color-unfitted-level-2);\n",
       "}\n",
       "\n",
       "#sk-container-id-1 div.sk-estimator.fitted:hover {\n",
       "  /* fitted */\n",
       "  background-color: var(--sklearn-color-fitted-level-2);\n",
       "}\n",
       "\n",
       "/* Specification for estimator info (e.g. \"i\" and \"?\") */\n",
       "\n",
       "/* Common style for \"i\" and \"?\" */\n",
       "\n",
       ".sk-estimator-doc-link,\n",
       "a:link.sk-estimator-doc-link,\n",
       "a:visited.sk-estimator-doc-link {\n",
       "  float: right;\n",
       "  font-size: smaller;\n",
       "  line-height: 1em;\n",
       "  font-family: monospace;\n",
       "  background-color: var(--sklearn-color-background);\n",
       "  border-radius: 1em;\n",
       "  height: 1em;\n",
       "  width: 1em;\n",
       "  text-decoration: none !important;\n",
       "  margin-left: 0.5em;\n",
       "  text-align: center;\n",
       "  /* unfitted */\n",
       "  border: var(--sklearn-color-unfitted-level-1) 1pt solid;\n",
       "  color: var(--sklearn-color-unfitted-level-1);\n",
       "}\n",
       "\n",
       ".sk-estimator-doc-link.fitted,\n",
       "a:link.sk-estimator-doc-link.fitted,\n",
       "a:visited.sk-estimator-doc-link.fitted {\n",
       "  /* fitted */\n",
       "  border: var(--sklearn-color-fitted-level-1) 1pt solid;\n",
       "  color: var(--sklearn-color-fitted-level-1);\n",
       "}\n",
       "\n",
       "/* On hover */\n",
       "div.sk-estimator:hover .sk-estimator-doc-link:hover,\n",
       ".sk-estimator-doc-link:hover,\n",
       "div.sk-label-container:hover .sk-estimator-doc-link:hover,\n",
       ".sk-estimator-doc-link:hover {\n",
       "  /* unfitted */\n",
       "  background-color: var(--sklearn-color-unfitted-level-3);\n",
       "  color: var(--sklearn-color-background);\n",
       "  text-decoration: none;\n",
       "}\n",
       "\n",
       "div.sk-estimator.fitted:hover .sk-estimator-doc-link.fitted:hover,\n",
       ".sk-estimator-doc-link.fitted:hover,\n",
       "div.sk-label-container:hover .sk-estimator-doc-link.fitted:hover,\n",
       ".sk-estimator-doc-link.fitted:hover {\n",
       "  /* fitted */\n",
       "  background-color: var(--sklearn-color-fitted-level-3);\n",
       "  color: var(--sklearn-color-background);\n",
       "  text-decoration: none;\n",
       "}\n",
       "\n",
       "/* Span, style for the box shown on hovering the info icon */\n",
       ".sk-estimator-doc-link span {\n",
       "  display: none;\n",
       "  z-index: 9999;\n",
       "  position: relative;\n",
       "  font-weight: normal;\n",
       "  right: .2ex;\n",
       "  padding: .5ex;\n",
       "  margin: .5ex;\n",
       "  width: min-content;\n",
       "  min-width: 20ex;\n",
       "  max-width: 50ex;\n",
       "  color: var(--sklearn-color-text);\n",
       "  box-shadow: 2pt 2pt 4pt #999;\n",
       "  /* unfitted */\n",
       "  background: var(--sklearn-color-unfitted-level-0);\n",
       "  border: .5pt solid var(--sklearn-color-unfitted-level-3);\n",
       "}\n",
       "\n",
       ".sk-estimator-doc-link.fitted span {\n",
       "  /* fitted */\n",
       "  background: var(--sklearn-color-fitted-level-0);\n",
       "  border: var(--sklearn-color-fitted-level-3);\n",
       "}\n",
       "\n",
       ".sk-estimator-doc-link:hover span {\n",
       "  display: block;\n",
       "}\n",
       "\n",
       "/* \"?\"-specific style due to the `<a>` HTML tag */\n",
       "\n",
       "#sk-container-id-1 a.estimator_doc_link {\n",
       "  float: right;\n",
       "  font-size: 1rem;\n",
       "  line-height: 1em;\n",
       "  font-family: monospace;\n",
       "  background-color: var(--sklearn-color-background);\n",
       "  border-radius: 1rem;\n",
       "  height: 1rem;\n",
       "  width: 1rem;\n",
       "  text-decoration: none;\n",
       "  /* unfitted */\n",
       "  color: var(--sklearn-color-unfitted-level-1);\n",
       "  border: var(--sklearn-color-unfitted-level-1) 1pt solid;\n",
       "}\n",
       "\n",
       "#sk-container-id-1 a.estimator_doc_link.fitted {\n",
       "  /* fitted */\n",
       "  border: var(--sklearn-color-fitted-level-1) 1pt solid;\n",
       "  color: var(--sklearn-color-fitted-level-1);\n",
       "}\n",
       "\n",
       "/* On hover */\n",
       "#sk-container-id-1 a.estimator_doc_link:hover {\n",
       "  /* unfitted */\n",
       "  background-color: var(--sklearn-color-unfitted-level-3);\n",
       "  color: var(--sklearn-color-background);\n",
       "  text-decoration: none;\n",
       "}\n",
       "\n",
       "#sk-container-id-1 a.estimator_doc_link.fitted:hover {\n",
       "  /* fitted */\n",
       "  background-color: var(--sklearn-color-fitted-level-3);\n",
       "}\n",
       "</style><div id=\"sk-container-id-1\" class=\"sk-top-container\"><div class=\"sk-text-repr-fallback\"><pre>DecisionTreeClassifier()</pre><b>In a Jupyter environment, please rerun this cell to show the HTML representation or trust the notebook. <br />On GitHub, the HTML representation is unable to render, please try loading this page with nbviewer.org.</b></div><div class=\"sk-container\" hidden><div class=\"sk-item\"><div class=\"sk-estimator fitted sk-toggleable\"><input class=\"sk-toggleable__control sk-hidden--visually\" id=\"sk-estimator-id-1\" type=\"checkbox\" checked><label for=\"sk-estimator-id-1\" class=\"sk-toggleable__label fitted sk-toggleable__label-arrow\"><div><div>DecisionTreeClassifier</div></div><div><a class=\"sk-estimator-doc-link fitted\" rel=\"noreferrer\" target=\"_blank\" href=\"https://scikit-learn.org/1.6/modules/generated/sklearn.tree.DecisionTreeClassifier.html\">?<span>Documentation for DecisionTreeClassifier</span></a><span class=\"sk-estimator-doc-link fitted\">i<span>Fitted</span></span></div></label><div class=\"sk-toggleable__content fitted\"><pre>DecisionTreeClassifier()</pre></div> </div></div></div></div>"
      ],
      "text/plain": [
       "DecisionTreeClassifier()"
      ]
     },
     "execution_count": 5,
     "metadata": {},
     "output_type": "execute_result"
    }
   ],
   "source": [
    "dtree.fit(X_train, y_train)"
   ]
  },
  {
   "cell_type": "code",
   "execution_count": 6,
   "metadata": {
    "colab": {},
    "colab_type": "code",
    "id": "xtx3jG6v01v1"
   },
   "outputs": [],
   "source": [
    "predictions = dtree.predict(X_test)"
   ]
  },
  {
   "cell_type": "code",
   "execution_count": 7,
   "metadata": {
    "colab": {
     "base_uri": "https://localhost:8080/",
     "height": 281
    },
    "colab_type": "code",
    "id": "mbWRTHjm06Hn",
    "outputId": "7510b3bb-df6e-4ce1-8ef2-94b019570bc7"
   },
   "outputs": [
    {
     "name": "stdout",
     "output_type": "stream",
     "text": [
      "              precision    recall  f1-score   support\n",
      "\n",
      "           0       0.81      0.83      0.82       195\n",
      "           1       0.59      0.61      0.60       127\n",
      "           2       0.62      0.61      0.62       266\n",
      "           3       0.71      0.65      0.68       257\n",
      "           4       0.73      0.71      0.72       258\n",
      "           5       0.64      0.71      0.67       238\n",
      "           6       0.66      0.67      0.67       207\n",
      "           7       0.60      0.61      0.61       185\n",
      "\n",
      "    accuracy                           0.68      1733\n",
      "   macro avg       0.67      0.67      0.67      1733\n",
      "weighted avg       0.68      0.68      0.68      1733\n",
      "\n"
     ]
    }
   ],
   "source": [
    "from sklearn.metrics import classification_report,confusion_matrix\n",
    "print(classification_report(y_test,predictions))"
   ]
  },
  {
   "cell_type": "markdown",
   "metadata": {
    "colab_type": "text",
    "id": "t9eqMHV3S8i6"
   },
   "source": [
    "# Neural network"
   ]
  },
  {
   "cell_type": "code",
   "execution_count": 8,
   "metadata": {
    "colab": {},
    "colab_type": "code",
    "id": "nIhRgcH3B0gu"
   },
   "outputs": [],
   "source": [
    "import numpy as np\n",
    "x_traincnn = np.expand_dims(X_train, axis=2)\n",
    "x_testcnn = np.expand_dims(X_test, axis=2)"
   ]
  },
  {
   "cell_type": "code",
   "execution_count": 9,
   "metadata": {
    "colab": {
     "base_uri": "https://localhost:8080/",
     "height": 35
    },
    "colab_type": "code",
    "id": "XRg78iarB1OI",
    "outputId": "06b0191f-1dcd-416e-f0e3-01393bb73164"
   },
   "outputs": [
    {
     "data": {
      "text/plain": [
       "((3518, 40, 1), (1733, 40, 1))"
      ]
     },
     "execution_count": 9,
     "metadata": {},
     "output_type": "execute_result"
    }
   ],
   "source": [
    "x_traincnn.shape, x_testcnn.shape"
   ]
  },
  {
   "cell_type": "code",
   "execution_count": 10,
   "metadata": {
    "colab": {
     "base_uri": "https://localhost:8080/",
     "height": 35
    },
    "colab_type": "code",
    "id": "LgYdhmGJB4ur",
    "outputId": "7e07341f-fbad-474c-fa50-b88991b23ebe"
   },
   "outputs": [],
   "source": [
    "import keras\n",
    "import numpy as np\n",
    "import matplotlib.pyplot as plt\n",
    "import tensorflow as tf\n",
    "from keras.preprocessing import sequence\n",
    "from keras.models import Sequential\n",
    "from keras.layers import Dense, Embedding\n",
    "from keras.utils import to_categorical\n",
    "from keras.layers import Input, Flatten, Dropout, Activation\n",
    "from keras.layers import Conv1D, MaxPooling1D\n",
    "from keras.models import Model\n",
    "from keras.callbacks import ModelCheckpoint\n",
    "\n",
    "model = Sequential()\n",
    "\n",
    "model.add(Conv1D(64, 5,padding='same',\n",
    "                 input_shape=(40,1)))\n",
    "model.add(Activation('relu'))\n",
    "model.add(Dropout(0.1))\n",
    "model.add(MaxPooling1D(pool_size=(4)))\n",
    "model.add(Conv1D(128, 5,padding='same',))\n",
    "model.add(Activation('relu'))\n",
    "model.add(Dropout(0.1))\n",
    "model.add(MaxPooling1D(pool_size=(4)))\n",
    "model.add(Conv1D(256, 5,padding='same',))\n",
    "model.add(Activation('relu'))\n",
    "model.add(Dropout(0.1))\n",
    "model.add(Flatten())\n",
    "model.add(Dense(8))\n",
    "model.add(Activation('softmax'))\n",
    "opt = keras.optimizers.RMSprop(learning_rate=0.00005, rho=0.9, epsilon=1e-07)"
   ]
  },
  {
   "cell_type": "code",
   "execution_count": 11,
   "metadata": {
    "colab": {
     "base_uri": "https://localhost:8080/",
     "height": 657
    },
    "colab_type": "code",
    "id": "ImZFafVANMP_",
    "outputId": "d03e9f1d-9bd0-4a99-f9be-cf9b889d679a"
   },
   "outputs": [
    {
     "name": "stdout",
     "output_type": "stream",
     "text": [
      "Model: \"sequential\"\n",
      "_________________________________________________________________\n",
      " Layer (type)                Output Shape              Param #   \n",
      "=================================================================\n",
      " conv1d (Conv1D)             (None, 40, 64)            384       \n",
      "                                                                 \n",
      " activation (Activation)     (None, 40, 64)            0         \n",
      "                                                                 \n",
      " dropout (Dropout)           (None, 40, 64)            0         \n",
      "                                                                 \n",
      " max_pooling1d (MaxPooling1D  (None, 10, 64)           0         \n",
      " )                                                               \n",
      "                                                                 \n",
      " conv1d_1 (Conv1D)           (None, 10, 128)           41088     \n",
      "                                                                 \n",
      " activation_1 (Activation)   (None, 10, 128)           0         \n",
      "                                                                 \n",
      " dropout_1 (Dropout)         (None, 10, 128)           0         \n",
      "                                                                 \n",
      " max_pooling1d_1 (MaxPooling  (None, 2, 128)           0         \n",
      " 1D)                                                             \n",
      "                                                                 \n",
      " conv1d_2 (Conv1D)           (None, 2, 256)            164096    \n",
      "                                                                 \n",
      " activation_2 (Activation)   (None, 2, 256)            0         \n",
      "                                                                 \n",
      " dropout_2 (Dropout)         (None, 2, 256)            0         \n",
      "                                                                 \n",
      " flatten (Flatten)           (None, 512)               0         \n",
      "                                                                 \n",
      " dense (Dense)               (None, 8)                 4104      \n",
      "                                                                 \n",
      " activation_3 (Activation)   (None, 8)                 0         \n",
      "                                                                 \n",
      "=================================================================\n",
      "Total params: 209,672\n",
      "Trainable params: 209,672\n",
      "Non-trainable params: 0\n",
      "_________________________________________________________________\n"
     ]
    }
   ],
   "source": [
    "model.summary()"
   ]
  },
  {
   "cell_type": "code",
   "execution_count": 12,
   "metadata": {
    "colab": {},
    "colab_type": "code",
    "id": "s8LuQtKzON7i"
   },
   "outputs": [],
   "source": [
    "model.compile(loss='sparse_categorical_crossentropy',\n",
    "              optimizer=opt,\n",
    "              metrics=['accuracy'])"
   ]
  },
  {
   "cell_type": "code",
   "execution_count": 13,
   "metadata": {
    "colab": {
     "base_uri": "https://localhost:8080/",
     "height": 1000
    },
    "colab_type": "code",
    "id": "cQKYfMONOow7",
    "outputId": "6fc8e1ad-5271-4f86-f238-fee2045ade1e"
   },
   "outputs": [
    {
     "name": "stdout",
     "output_type": "stream",
     "text": [
      "Epoch 1/200\n",
      "220/220 [==============================] - 2s 6ms/step - loss: 3.7943 - accuracy: 0.1876 - val_loss: 1.6139 - val_accuracy: 0.4022\n",
      "Epoch 2/200\n",
      "220/220 [==============================] - 1s 5ms/step - loss: 2.4406 - accuracy: 0.3061 - val_loss: 1.5142 - val_accuracy: 0.4559\n",
      "Epoch 3/200\n",
      "220/220 [==============================] - 1s 5ms/step - loss: 1.8549 - accuracy: 0.3968 - val_loss: 1.3496 - val_accuracy: 0.5130\n",
      "Epoch 4/200\n",
      "220/220 [==============================] - 1s 5ms/step - loss: 1.5613 - accuracy: 0.4858 - val_loss: 1.2938 - val_accuracy: 0.5193\n",
      "Epoch 5/200\n",
      "220/220 [==============================] - 1s 5ms/step - loss: 1.4192 - accuracy: 0.5262 - val_loss: 1.1898 - val_accuracy: 0.5834\n",
      "Epoch 6/200\n",
      "220/220 [==============================] - 1s 5ms/step - loss: 1.3186 - accuracy: 0.5512 - val_loss: 1.0986 - val_accuracy: 0.6157\n",
      "Epoch 7/200\n",
      "220/220 [==============================] - 1s 5ms/step - loss: 1.2362 - accuracy: 0.5725 - val_loss: 1.0656 - val_accuracy: 0.6261\n",
      "Epoch 8/200\n",
      "220/220 [==============================] - 1s 5ms/step - loss: 1.1636 - accuracy: 0.5881 - val_loss: 1.0491 - val_accuracy: 0.6347\n",
      "Epoch 9/200\n",
      "220/220 [==============================] - 1s 5ms/step - loss: 1.1275 - accuracy: 0.6049 - val_loss: 0.9985 - val_accuracy: 0.6492\n",
      "Epoch 10/200\n",
      "220/220 [==============================] - 1s 5ms/step - loss: 1.0765 - accuracy: 0.6154 - val_loss: 0.9768 - val_accuracy: 0.6434\n",
      "Epoch 11/200\n",
      "220/220 [==============================] - 1s 5ms/step - loss: 1.0398 - accuracy: 0.6214 - val_loss: 0.9573 - val_accuracy: 0.6538\n",
      "Epoch 12/200\n",
      "220/220 [==============================] - 1s 5ms/step - loss: 1.0150 - accuracy: 0.6399 - val_loss: 0.9117 - val_accuracy: 0.6838\n",
      "Epoch 13/200\n",
      "220/220 [==============================] - 1s 5ms/step - loss: 0.9727 - accuracy: 0.6455 - val_loss: 0.8896 - val_accuracy: 0.6642\n",
      "Epoch 14/200\n",
      "220/220 [==============================] - 1s 5ms/step - loss: 0.9358 - accuracy: 0.6549 - val_loss: 0.8651 - val_accuracy: 0.6855\n",
      "Epoch 15/200\n",
      "220/220 [==============================] - 1s 5ms/step - loss: 0.9232 - accuracy: 0.6677 - val_loss: 0.8500 - val_accuracy: 0.6988\n",
      "Epoch 16/200\n",
      "220/220 [==============================] - 1s 5ms/step - loss: 0.9062 - accuracy: 0.6620 - val_loss: 0.8357 - val_accuracy: 0.6855\n",
      "Epoch 17/200\n",
      "220/220 [==============================] - 1s 6ms/step - loss: 0.8883 - accuracy: 0.6720 - val_loss: 0.8233 - val_accuracy: 0.7074\n",
      "Epoch 18/200\n",
      "220/220 [==============================] - 1s 6ms/step - loss: 0.8735 - accuracy: 0.6819 - val_loss: 0.8346 - val_accuracy: 0.6982\n",
      "Epoch 19/200\n",
      "220/220 [==============================] - 1s 6ms/step - loss: 0.8669 - accuracy: 0.6777 - val_loss: 0.8036 - val_accuracy: 0.7011\n",
      "Epoch 20/200\n",
      "220/220 [==============================] - 1s 6ms/step - loss: 0.8446 - accuracy: 0.6890 - val_loss: 0.7999 - val_accuracy: 0.7005\n",
      "Epoch 21/200\n",
      "220/220 [==============================] - 1s 6ms/step - loss: 0.8359 - accuracy: 0.6870 - val_loss: 0.7824 - val_accuracy: 0.7121\n",
      "Epoch 22/200\n",
      "220/220 [==============================] - 1s 5ms/step - loss: 0.8180 - accuracy: 0.7013 - val_loss: 0.7597 - val_accuracy: 0.7178\n",
      "Epoch 23/200\n",
      "220/220 [==============================] - 1s 6ms/step - loss: 0.8024 - accuracy: 0.7024 - val_loss: 0.7497 - val_accuracy: 0.7392\n",
      "Epoch 24/200\n",
      "220/220 [==============================] - 1s 6ms/step - loss: 0.7955 - accuracy: 0.7095 - val_loss: 0.7606 - val_accuracy: 0.7259\n",
      "Epoch 25/200\n",
      "220/220 [==============================] - 1s 6ms/step - loss: 0.7774 - accuracy: 0.7086 - val_loss: 0.7423 - val_accuracy: 0.7305\n",
      "Epoch 26/200\n",
      "220/220 [==============================] - 1s 6ms/step - loss: 0.7618 - accuracy: 0.7211 - val_loss: 0.7295 - val_accuracy: 0.7450\n",
      "Epoch 27/200\n",
      "220/220 [==============================] - 1s 6ms/step - loss: 0.7616 - accuracy: 0.7183 - val_loss: 0.7224 - val_accuracy: 0.7323\n",
      "Epoch 28/200\n",
      "220/220 [==============================] - 1s 6ms/step - loss: 0.7569 - accuracy: 0.7160 - val_loss: 0.7443 - val_accuracy: 0.7328\n",
      "Epoch 29/200\n",
      "220/220 [==============================] - 1s 6ms/step - loss: 0.7448 - accuracy: 0.7209 - val_loss: 0.6958 - val_accuracy: 0.7501\n",
      "Epoch 30/200\n",
      "220/220 [==============================] - 1s 6ms/step - loss: 0.7279 - accuracy: 0.7302 - val_loss: 0.7037 - val_accuracy: 0.7398\n",
      "Epoch 31/200\n",
      "220/220 [==============================] - 1s 6ms/step - loss: 0.7200 - accuracy: 0.7405 - val_loss: 0.7036 - val_accuracy: 0.7415\n",
      "Epoch 32/200\n",
      "220/220 [==============================] - 1s 6ms/step - loss: 0.7181 - accuracy: 0.7362 - val_loss: 0.6972 - val_accuracy: 0.7455\n",
      "Epoch 33/200\n",
      "220/220 [==============================] - 1s 6ms/step - loss: 0.7077 - accuracy: 0.7362 - val_loss: 0.6802 - val_accuracy: 0.7576\n",
      "Epoch 34/200\n",
      "220/220 [==============================] - 1s 6ms/step - loss: 0.6953 - accuracy: 0.7382 - val_loss: 0.6847 - val_accuracy: 0.7548\n",
      "Epoch 35/200\n",
      "220/220 [==============================] - 1s 6ms/step - loss: 0.7052 - accuracy: 0.7371 - val_loss: 0.6866 - val_accuracy: 0.7478\n",
      "Epoch 36/200\n",
      "220/220 [==============================] - 1s 6ms/step - loss: 0.6910 - accuracy: 0.7453 - val_loss: 0.6718 - val_accuracy: 0.7559\n",
      "Epoch 37/200\n",
      "220/220 [==============================] - 1s 6ms/step - loss: 0.6782 - accuracy: 0.7413 - val_loss: 0.6682 - val_accuracy: 0.7617\n",
      "Epoch 38/200\n",
      "220/220 [==============================] - 1s 6ms/step - loss: 0.6716 - accuracy: 0.7499 - val_loss: 0.6603 - val_accuracy: 0.7623\n",
      "Epoch 39/200\n",
      "220/220 [==============================] - 1s 6ms/step - loss: 0.6734 - accuracy: 0.7464 - val_loss: 0.6736 - val_accuracy: 0.7628\n",
      "Epoch 40/200\n",
      "220/220 [==============================] - 1s 6ms/step - loss: 0.6612 - accuracy: 0.7584 - val_loss: 0.6597 - val_accuracy: 0.7605\n",
      "Epoch 41/200\n",
      "220/220 [==============================] - 1s 6ms/step - loss: 0.6601 - accuracy: 0.7550 - val_loss: 0.6534 - val_accuracy: 0.7761\n",
      "Epoch 42/200\n",
      "220/220 [==============================] - 1s 6ms/step - loss: 0.6579 - accuracy: 0.7575 - val_loss: 0.6279 - val_accuracy: 0.7750\n",
      "Epoch 43/200\n",
      "220/220 [==============================] - 1s 6ms/step - loss: 0.6563 - accuracy: 0.7553 - val_loss: 0.6286 - val_accuracy: 0.7686\n",
      "Epoch 44/200\n",
      "220/220 [==============================] - 1s 6ms/step - loss: 0.6429 - accuracy: 0.7584 - val_loss: 0.6428 - val_accuracy: 0.7617\n",
      "Epoch 45/200\n",
      "220/220 [==============================] - 1s 6ms/step - loss: 0.6259 - accuracy: 0.7706 - val_loss: 0.6340 - val_accuracy: 0.7623\n",
      "Epoch 46/200\n",
      "220/220 [==============================] - 1s 6ms/step - loss: 0.6361 - accuracy: 0.7681 - val_loss: 0.6184 - val_accuracy: 0.7675\n",
      "Epoch 47/200\n",
      "220/220 [==============================] - 1s 6ms/step - loss: 0.6326 - accuracy: 0.7632 - val_loss: 0.6094 - val_accuracy: 0.7767\n",
      "Epoch 48/200\n",
      "220/220 [==============================] - 1s 6ms/step - loss: 0.6259 - accuracy: 0.7743 - val_loss: 0.6215 - val_accuracy: 0.7738\n",
      "Epoch 49/200\n",
      "220/220 [==============================] - 1s 6ms/step - loss: 0.6195 - accuracy: 0.7723 - val_loss: 0.6072 - val_accuracy: 0.7761\n",
      "Epoch 50/200\n",
      "220/220 [==============================] - 1s 6ms/step - loss: 0.6055 - accuracy: 0.7817 - val_loss: 0.6027 - val_accuracy: 0.7738\n",
      "Epoch 51/200\n",
      "220/220 [==============================] - 1s 6ms/step - loss: 0.6113 - accuracy: 0.7777 - val_loss: 0.5985 - val_accuracy: 0.7761\n",
      "Epoch 52/200\n",
      "220/220 [==============================] - 1s 6ms/step - loss: 0.5965 - accuracy: 0.7766 - val_loss: 0.5989 - val_accuracy: 0.7790\n",
      "Epoch 53/200\n",
      "220/220 [==============================] - 1s 6ms/step - loss: 0.5942 - accuracy: 0.7908 - val_loss: 0.5983 - val_accuracy: 0.7917\n",
      "Epoch 54/200\n",
      "220/220 [==============================] - 1s 6ms/step - loss: 0.5920 - accuracy: 0.7806 - val_loss: 0.5885 - val_accuracy: 0.7853\n",
      "Epoch 55/200\n",
      "220/220 [==============================] - 1s 6ms/step - loss: 0.5893 - accuracy: 0.7825 - val_loss: 0.5781 - val_accuracy: 0.7877\n",
      "Epoch 56/200\n",
      "220/220 [==============================] - 1s 6ms/step - loss: 0.5713 - accuracy: 0.7868 - val_loss: 0.5687 - val_accuracy: 0.7928\n",
      "Epoch 57/200\n",
      "220/220 [==============================] - 1s 6ms/step - loss: 0.5817 - accuracy: 0.7868 - val_loss: 0.5788 - val_accuracy: 0.7825\n"
     ]
    },
    {
     "name": "stdout",
     "output_type": "stream",
     "text": [
      "Epoch 58/200\n",
      "220/220 [==============================] - 1s 5ms/step - loss: 0.5810 - accuracy: 0.7834 - val_loss: 0.5847 - val_accuracy: 0.7882\n",
      "Epoch 59/200\n",
      "220/220 [==============================] - 1s 5ms/step - loss: 0.5689 - accuracy: 0.7865 - val_loss: 0.5790 - val_accuracy: 0.7882\n",
      "Epoch 60/200\n",
      "220/220 [==============================] - 1s 6ms/step - loss: 0.5659 - accuracy: 0.7948 - val_loss: 0.5693 - val_accuracy: 0.7952\n",
      "Epoch 61/200\n",
      "220/220 [==============================] - 1s 6ms/step - loss: 0.5726 - accuracy: 0.7933 - val_loss: 0.5786 - val_accuracy: 0.7957\n",
      "Epoch 62/200\n",
      "220/220 [==============================] - 1s 5ms/step - loss: 0.5623 - accuracy: 0.7854 - val_loss: 0.5637 - val_accuracy: 0.7940\n",
      "Epoch 63/200\n",
      "220/220 [==============================] - 1s 6ms/step - loss: 0.5557 - accuracy: 0.7919 - val_loss: 0.5607 - val_accuracy: 0.7975\n",
      "Epoch 64/200\n",
      "220/220 [==============================] - 1s 6ms/step - loss: 0.5543 - accuracy: 0.7899 - val_loss: 0.5656 - val_accuracy: 0.7917\n",
      "Epoch 65/200\n",
      "220/220 [==============================] - 1s 6ms/step - loss: 0.5504 - accuracy: 0.7973 - val_loss: 0.5699 - val_accuracy: 0.7952\n",
      "Epoch 66/200\n",
      "220/220 [==============================] - 1s 6ms/step - loss: 0.5478 - accuracy: 0.7933 - val_loss: 0.5612 - val_accuracy: 0.8015\n",
      "Epoch 67/200\n",
      "220/220 [==============================] - 1s 6ms/step - loss: 0.5511 - accuracy: 0.7942 - val_loss: 0.5478 - val_accuracy: 0.8027\n",
      "Epoch 68/200\n",
      "220/220 [==============================] - 1s 6ms/step - loss: 0.5317 - accuracy: 0.8081 - val_loss: 0.5456 - val_accuracy: 0.7940\n",
      "Epoch 69/200\n",
      "220/220 [==============================] - 1s 6ms/step - loss: 0.5452 - accuracy: 0.7939 - val_loss: 0.5524 - val_accuracy: 0.7917\n",
      "Epoch 70/200\n",
      "220/220 [==============================] - 1s 6ms/step - loss: 0.5323 - accuracy: 0.8084 - val_loss: 0.5461 - val_accuracy: 0.7998\n",
      "Epoch 71/200\n",
      "220/220 [==============================] - 1s 6ms/step - loss: 0.5302 - accuracy: 0.8064 - val_loss: 0.5408 - val_accuracy: 0.8009\n",
      "Epoch 72/200\n",
      "220/220 [==============================] - 1s 6ms/step - loss: 0.5345 - accuracy: 0.8047 - val_loss: 0.5501 - val_accuracy: 0.7980\n",
      "Epoch 73/200\n",
      "220/220 [==============================] - 1s 6ms/step - loss: 0.5233 - accuracy: 0.8098 - val_loss: 0.5407 - val_accuracy: 0.8027\n",
      "Epoch 74/200\n",
      "220/220 [==============================] - 1s 6ms/step - loss: 0.5141 - accuracy: 0.8096 - val_loss: 0.5431 - val_accuracy: 0.8003\n",
      "Epoch 75/200\n",
      "220/220 [==============================] - 1s 6ms/step - loss: 0.5121 - accuracy: 0.8101 - val_loss: 0.5423 - val_accuracy: 0.7969\n",
      "Epoch 76/200\n",
      "220/220 [==============================] - 1s 6ms/step - loss: 0.5115 - accuracy: 0.8135 - val_loss: 0.5346 - val_accuracy: 0.8073\n",
      "Epoch 77/200\n",
      "220/220 [==============================] - 1s 6ms/step - loss: 0.5121 - accuracy: 0.8147 - val_loss: 0.5341 - val_accuracy: 0.8078\n",
      "Epoch 78/200\n",
      "220/220 [==============================] - 1s 6ms/step - loss: 0.5033 - accuracy: 0.8121 - val_loss: 0.5300 - val_accuracy: 0.8113\n",
      "Epoch 79/200\n",
      "220/220 [==============================] - 1s 6ms/step - loss: 0.4935 - accuracy: 0.8181 - val_loss: 0.5411 - val_accuracy: 0.8027\n",
      "Epoch 80/200\n",
      "220/220 [==============================] - 1s 6ms/step - loss: 0.5074 - accuracy: 0.8135 - val_loss: 0.5304 - val_accuracy: 0.8032\n",
      "Epoch 81/200\n",
      "220/220 [==============================] - 1s 5ms/step - loss: 0.4942 - accuracy: 0.8184 - val_loss: 0.5219 - val_accuracy: 0.8078\n",
      "Epoch 82/200\n",
      "220/220 [==============================] - 1s 6ms/step - loss: 0.4916 - accuracy: 0.8189 - val_loss: 0.5259 - val_accuracy: 0.8067\n",
      "Epoch 83/200\n",
      "220/220 [==============================] - 1s 6ms/step - loss: 0.4934 - accuracy: 0.8195 - val_loss: 0.5250 - val_accuracy: 0.8084\n",
      "Epoch 84/200\n",
      "220/220 [==============================] - 1s 6ms/step - loss: 0.4853 - accuracy: 0.8238 - val_loss: 0.5296 - val_accuracy: 0.7986\n",
      "Epoch 85/200\n",
      "220/220 [==============================] - 1s 6ms/step - loss: 0.4893 - accuracy: 0.8243 - val_loss: 0.5121 - val_accuracy: 0.8050\n",
      "Epoch 86/200\n",
      "220/220 [==============================] - 1s 6ms/step - loss: 0.4866 - accuracy: 0.8255 - val_loss: 0.5271 - val_accuracy: 0.7998\n",
      "Epoch 87/200\n",
      "220/220 [==============================] - 1s 6ms/step - loss: 0.4835 - accuracy: 0.8235 - val_loss: 0.5198 - val_accuracy: 0.7986\n",
      "Epoch 88/200\n",
      "220/220 [==============================] - 1s 6ms/step - loss: 0.4714 - accuracy: 0.8263 - val_loss: 0.5184 - val_accuracy: 0.7998\n",
      "Epoch 89/200\n",
      "220/220 [==============================] - 1s 6ms/step - loss: 0.4813 - accuracy: 0.8286 - val_loss: 0.5200 - val_accuracy: 0.8125\n",
      "Epoch 90/200\n",
      "220/220 [==============================] - 1s 6ms/step - loss: 0.4662 - accuracy: 0.8252 - val_loss: 0.5324 - val_accuracy: 0.8027\n",
      "Epoch 91/200\n",
      "220/220 [==============================] - 1s 6ms/step - loss: 0.4798 - accuracy: 0.8283 - val_loss: 0.5079 - val_accuracy: 0.8055\n",
      "Epoch 92/200\n",
      "220/220 [==============================] - 1s 6ms/step - loss: 0.4785 - accuracy: 0.8249 - val_loss: 0.5232 - val_accuracy: 0.8061\n",
      "Epoch 93/200\n",
      "220/220 [==============================] - 1s 6ms/step - loss: 0.4639 - accuracy: 0.8348 - val_loss: 0.5059 - val_accuracy: 0.8136\n",
      "Epoch 94/200\n",
      "220/220 [==============================] - 1s 6ms/step - loss: 0.4473 - accuracy: 0.8394 - val_loss: 0.4998 - val_accuracy: 0.8200\n",
      "Epoch 95/200\n",
      "220/220 [==============================] - 1s 6ms/step - loss: 0.4617 - accuracy: 0.8312 - val_loss: 0.5247 - val_accuracy: 0.8073\n",
      "Epoch 96/200\n",
      "220/220 [==============================] - 1s 6ms/step - loss: 0.4519 - accuracy: 0.8417 - val_loss: 0.5027 - val_accuracy: 0.8205\n",
      "Epoch 97/200\n",
      "220/220 [==============================] - 1s 6ms/step - loss: 0.4572 - accuracy: 0.8312 - val_loss: 0.5234 - val_accuracy: 0.8107\n",
      "Epoch 98/200\n",
      "220/220 [==============================] - 1s 6ms/step - loss: 0.4460 - accuracy: 0.8385 - val_loss: 0.5104 - val_accuracy: 0.8136\n",
      "Epoch 99/200\n",
      "220/220 [==============================] - 1s 6ms/step - loss: 0.4435 - accuracy: 0.8414 - val_loss: 0.5265 - val_accuracy: 0.8084\n",
      "Epoch 100/200\n",
      "220/220 [==============================] - 1s 6ms/step - loss: 0.4329 - accuracy: 0.8383 - val_loss: 0.5049 - val_accuracy: 0.8130\n",
      "Epoch 101/200\n",
      "220/220 [==============================] - 1s 5ms/step - loss: 0.4416 - accuracy: 0.8377 - val_loss: 0.5013 - val_accuracy: 0.8073\n",
      "Epoch 102/200\n",
      "220/220 [==============================] - 1s 6ms/step - loss: 0.4377 - accuracy: 0.8437 - val_loss: 0.4861 - val_accuracy: 0.8211\n",
      "Epoch 103/200\n",
      "220/220 [==============================] - 1s 6ms/step - loss: 0.4488 - accuracy: 0.8385 - val_loss: 0.4937 - val_accuracy: 0.8142\n",
      "Epoch 104/200\n",
      "220/220 [==============================] - 1s 6ms/step - loss: 0.4325 - accuracy: 0.8425 - val_loss: 0.4976 - val_accuracy: 0.8136\n",
      "Epoch 105/200\n",
      "220/220 [==============================] - 1s 6ms/step - loss: 0.4400 - accuracy: 0.8468 - val_loss: 0.4843 - val_accuracy: 0.8280\n",
      "Epoch 106/200\n",
      "220/220 [==============================] - 1s 6ms/step - loss: 0.4440 - accuracy: 0.8405 - val_loss: 0.4912 - val_accuracy: 0.8171\n",
      "Epoch 107/200\n",
      "220/220 [==============================] - 1s 6ms/step - loss: 0.4208 - accuracy: 0.8525 - val_loss: 0.4937 - val_accuracy: 0.8090\n",
      "Epoch 108/200\n",
      "220/220 [==============================] - 1s 6ms/step - loss: 0.4356 - accuracy: 0.8442 - val_loss: 0.4927 - val_accuracy: 0.8188\n",
      "Epoch 109/200\n",
      "220/220 [==============================] - 1s 6ms/step - loss: 0.4313 - accuracy: 0.8425 - val_loss: 0.4848 - val_accuracy: 0.8240\n",
      "Epoch 110/200\n",
      "220/220 [==============================] - 1s 6ms/step - loss: 0.4265 - accuracy: 0.8499 - val_loss: 0.4883 - val_accuracy: 0.8182\n",
      "Epoch 111/200\n",
      "220/220 [==============================] - 1s 6ms/step - loss: 0.4261 - accuracy: 0.8442 - val_loss: 0.4845 - val_accuracy: 0.8194\n",
      "Epoch 112/200\n",
      "220/220 [==============================] - 1s 6ms/step - loss: 0.4230 - accuracy: 0.8496 - val_loss: 0.4863 - val_accuracy: 0.8194\n",
      "Epoch 113/200\n",
      "220/220 [==============================] - 1s 6ms/step - loss: 0.4226 - accuracy: 0.8479 - val_loss: 0.4771 - val_accuracy: 0.8217\n",
      "Epoch 114/200\n",
      "220/220 [==============================] - 1s 6ms/step - loss: 0.4058 - accuracy: 0.8525 - val_loss: 0.4790 - val_accuracy: 0.8252\n"
     ]
    },
    {
     "name": "stdout",
     "output_type": "stream",
     "text": [
      "Epoch 115/200\n",
      "220/220 [==============================] - 1s 6ms/step - loss: 0.4089 - accuracy: 0.8508 - val_loss: 0.4852 - val_accuracy: 0.8159\n",
      "Epoch 116/200\n",
      "220/220 [==============================] - 1s 6ms/step - loss: 0.4035 - accuracy: 0.8599 - val_loss: 0.4777 - val_accuracy: 0.8240\n",
      "Epoch 117/200\n",
      "220/220 [==============================] - 1s 6ms/step - loss: 0.4070 - accuracy: 0.8508 - val_loss: 0.4877 - val_accuracy: 0.8223\n",
      "Epoch 118/200\n",
      "220/220 [==============================] - 1s 6ms/step - loss: 0.4079 - accuracy: 0.8562 - val_loss: 0.4848 - val_accuracy: 0.8252\n",
      "Epoch 119/200\n",
      "220/220 [==============================] - 1s 6ms/step - loss: 0.4096 - accuracy: 0.8525 - val_loss: 0.4705 - val_accuracy: 0.8263\n",
      "Epoch 120/200\n",
      "220/220 [==============================] - 1s 6ms/step - loss: 0.3963 - accuracy: 0.8530 - val_loss: 0.5057 - val_accuracy: 0.8200\n",
      "Epoch 121/200\n",
      "220/220 [==============================] - 1s 6ms/step - loss: 0.4015 - accuracy: 0.8559 - val_loss: 0.4814 - val_accuracy: 0.8211\n",
      "Epoch 122/200\n",
      "220/220 [==============================] - 1s 6ms/step - loss: 0.3818 - accuracy: 0.8636 - val_loss: 0.4696 - val_accuracy: 0.8321\n",
      "Epoch 123/200\n",
      "220/220 [==============================] - 1s 6ms/step - loss: 0.4027 - accuracy: 0.8522 - val_loss: 0.4650 - val_accuracy: 0.8292\n",
      "Epoch 124/200\n",
      "220/220 [==============================] - 1s 7ms/step - loss: 0.3891 - accuracy: 0.8616 - val_loss: 0.4714 - val_accuracy: 0.8200\n",
      "Epoch 125/200\n",
      "220/220 [==============================] - 1s 7ms/step - loss: 0.3853 - accuracy: 0.8627 - val_loss: 0.4717 - val_accuracy: 0.8332\n",
      "Epoch 126/200\n",
      "220/220 [==============================] - 2s 7ms/step - loss: 0.3785 - accuracy: 0.8616 - val_loss: 0.4624 - val_accuracy: 0.8379\n",
      "Epoch 127/200\n",
      "220/220 [==============================] - 1s 6ms/step - loss: 0.3849 - accuracy: 0.8604 - val_loss: 0.4812 - val_accuracy: 0.8292\n",
      "Epoch 128/200\n",
      "220/220 [==============================] - 1s 6ms/step - loss: 0.3832 - accuracy: 0.8641 - val_loss: 0.4571 - val_accuracy: 0.8309\n",
      "Epoch 129/200\n",
      "220/220 [==============================] - 1s 6ms/step - loss: 0.3895 - accuracy: 0.8604 - val_loss: 0.4660 - val_accuracy: 0.8309\n",
      "Epoch 130/200\n",
      "220/220 [==============================] - 1s 7ms/step - loss: 0.3735 - accuracy: 0.8653 - val_loss: 0.4647 - val_accuracy: 0.8275\n",
      "Epoch 131/200\n",
      "220/220 [==============================] - 2s 8ms/step - loss: 0.3981 - accuracy: 0.8559 - val_loss: 0.4654 - val_accuracy: 0.8217\n",
      "Epoch 132/200\n",
      "220/220 [==============================] - 2s 7ms/step - loss: 0.3811 - accuracy: 0.8619 - val_loss: 0.4574 - val_accuracy: 0.8361\n",
      "Epoch 133/200\n",
      "220/220 [==============================] - 2s 7ms/step - loss: 0.3710 - accuracy: 0.8678 - val_loss: 0.4564 - val_accuracy: 0.8321\n",
      "Epoch 134/200\n",
      "220/220 [==============================] - 1s 6ms/step - loss: 0.3656 - accuracy: 0.8667 - val_loss: 0.4771 - val_accuracy: 0.8309\n",
      "Epoch 135/200\n",
      "220/220 [==============================] - 1s 6ms/step - loss: 0.3706 - accuracy: 0.8636 - val_loss: 0.4634 - val_accuracy: 0.8257\n",
      "Epoch 136/200\n",
      "220/220 [==============================] - 1s 6ms/step - loss: 0.3683 - accuracy: 0.8619 - val_loss: 0.4641 - val_accuracy: 0.8338\n",
      "Epoch 137/200\n",
      "220/220 [==============================] - 1s 6ms/step - loss: 0.3673 - accuracy: 0.8661 - val_loss: 0.4597 - val_accuracy: 0.8344\n",
      "Epoch 138/200\n",
      "220/220 [==============================] - 1s 6ms/step - loss: 0.3610 - accuracy: 0.8692 - val_loss: 0.4653 - val_accuracy: 0.8309\n",
      "Epoch 139/200\n",
      "220/220 [==============================] - 1s 6ms/step - loss: 0.3655 - accuracy: 0.8701 - val_loss: 0.4865 - val_accuracy: 0.8229\n",
      "Epoch 140/200\n",
      "220/220 [==============================] - 1s 6ms/step - loss: 0.3542 - accuracy: 0.8724 - val_loss: 0.4585 - val_accuracy: 0.8234\n",
      "Epoch 141/200\n",
      "220/220 [==============================] - 1s 6ms/step - loss: 0.3662 - accuracy: 0.8692 - val_loss: 0.4708 - val_accuracy: 0.8252\n",
      "Epoch 142/200\n",
      "220/220 [==============================] - 1s 6ms/step - loss: 0.3612 - accuracy: 0.8655 - val_loss: 0.4522 - val_accuracy: 0.8379\n",
      "Epoch 143/200\n",
      "220/220 [==============================] - 1s 6ms/step - loss: 0.3534 - accuracy: 0.8761 - val_loss: 0.4508 - val_accuracy: 0.8344\n",
      "Epoch 144/200\n",
      "220/220 [==============================] - 1s 6ms/step - loss: 0.3529 - accuracy: 0.8684 - val_loss: 0.4458 - val_accuracy: 0.8373\n",
      "Epoch 145/200\n",
      "220/220 [==============================] - 1s 6ms/step - loss: 0.3498 - accuracy: 0.8701 - val_loss: 0.4430 - val_accuracy: 0.8390\n",
      "Epoch 146/200\n",
      "220/220 [==============================] - 1s 6ms/step - loss: 0.3402 - accuracy: 0.8812 - val_loss: 0.4510 - val_accuracy: 0.8367\n",
      "Epoch 147/200\n",
      "220/220 [==============================] - 1s 6ms/step - loss: 0.3460 - accuracy: 0.8718 - val_loss: 0.4497 - val_accuracy: 0.8338\n",
      "Epoch 148/200\n",
      "220/220 [==============================] - 1s 6ms/step - loss: 0.3378 - accuracy: 0.8775 - val_loss: 0.4807 - val_accuracy: 0.8269\n",
      "Epoch 149/200\n",
      "220/220 [==============================] - 1s 6ms/step - loss: 0.3509 - accuracy: 0.8692 - val_loss: 0.4509 - val_accuracy: 0.8425\n",
      "Epoch 150/200\n",
      "220/220 [==============================] - 1s 6ms/step - loss: 0.3362 - accuracy: 0.8812 - val_loss: 0.4490 - val_accuracy: 0.8384\n",
      "Epoch 151/200\n",
      "220/220 [==============================] - 1s 7ms/step - loss: 0.3383 - accuracy: 0.8815 - val_loss: 0.4471 - val_accuracy: 0.8402\n",
      "Epoch 152/200\n",
      "220/220 [==============================] - 1s 6ms/step - loss: 0.3477 - accuracy: 0.8735 - val_loss: 0.4495 - val_accuracy: 0.8425\n",
      "Epoch 153/200\n",
      "220/220 [==============================] - 1s 6ms/step - loss: 0.3328 - accuracy: 0.8800 - val_loss: 0.4457 - val_accuracy: 0.8396\n",
      "Epoch 154/200\n",
      "220/220 [==============================] - 1s 6ms/step - loss: 0.3368 - accuracy: 0.8815 - val_loss: 0.4582 - val_accuracy: 0.8355\n",
      "Epoch 155/200\n",
      "220/220 [==============================] - 1s 6ms/step - loss: 0.3383 - accuracy: 0.8798 - val_loss: 0.4478 - val_accuracy: 0.8390\n",
      "Epoch 156/200\n",
      "220/220 [==============================] - 1s 6ms/step - loss: 0.3328 - accuracy: 0.8800 - val_loss: 0.4667 - val_accuracy: 0.8315\n",
      "Epoch 157/200\n",
      "220/220 [==============================] - 1s 6ms/step - loss: 0.3284 - accuracy: 0.8840 - val_loss: 0.4635 - val_accuracy: 0.8321\n",
      "Epoch 158/200\n",
      "220/220 [==============================] - 2s 8ms/step - loss: 0.3227 - accuracy: 0.8886 - val_loss: 0.4510 - val_accuracy: 0.8361\n",
      "Epoch 159/200\n",
      "220/220 [==============================] - 2s 8ms/step - loss: 0.3273 - accuracy: 0.8798 - val_loss: 0.4544 - val_accuracy: 0.8327\n",
      "Epoch 160/200\n",
      "220/220 [==============================] - 2s 8ms/step - loss: 0.3238 - accuracy: 0.8778 - val_loss: 0.4534 - val_accuracy: 0.8304\n",
      "Epoch 161/200\n",
      "220/220 [==============================] - 1s 6ms/step - loss: 0.3141 - accuracy: 0.8866 - val_loss: 0.4619 - val_accuracy: 0.8338\n",
      "Epoch 162/200\n",
      "220/220 [==============================] - 1s 6ms/step - loss: 0.3163 - accuracy: 0.8900 - val_loss: 0.4534 - val_accuracy: 0.8350\n",
      "Epoch 163/200\n",
      "220/220 [==============================] - 1s 6ms/step - loss: 0.3232 - accuracy: 0.8812 - val_loss: 0.4511 - val_accuracy: 0.8338\n",
      "Epoch 164/200\n",
      "220/220 [==============================] - 1s 6ms/step - loss: 0.3204 - accuracy: 0.8860 - val_loss: 0.4487 - val_accuracy: 0.8379\n",
      "Epoch 165/200\n",
      "220/220 [==============================] - 1s 6ms/step - loss: 0.3155 - accuracy: 0.8832 - val_loss: 0.4378 - val_accuracy: 0.8402\n",
      "Epoch 166/200\n",
      "220/220 [==============================] - 1s 6ms/step - loss: 0.3164 - accuracy: 0.8877 - val_loss: 0.4424 - val_accuracy: 0.8419\n",
      "Epoch 167/200\n",
      "220/220 [==============================] - 1s 6ms/step - loss: 0.3188 - accuracy: 0.8857 - val_loss: 0.4627 - val_accuracy: 0.8321\n",
      "Epoch 168/200\n",
      "220/220 [==============================] - 2s 8ms/step - loss: 0.3130 - accuracy: 0.8837 - val_loss: 0.4394 - val_accuracy: 0.8304\n",
      "Epoch 169/200\n",
      "220/220 [==============================] - 1s 6ms/step - loss: 0.3130 - accuracy: 0.8874 - val_loss: 0.4410 - val_accuracy: 0.8396\n",
      "Epoch 170/200\n",
      "220/220 [==============================] - 1s 7ms/step - loss: 0.3028 - accuracy: 0.8894 - val_loss: 0.4445 - val_accuracy: 0.8425\n",
      "Epoch 171/200\n"
     ]
    },
    {
     "name": "stdout",
     "output_type": "stream",
     "text": [
      "220/220 [==============================] - 2s 7ms/step - loss: 0.3036 - accuracy: 0.8943 - val_loss: 0.4534 - val_accuracy: 0.8350\n",
      "Epoch 172/200\n",
      "220/220 [==============================] - 1s 7ms/step - loss: 0.3138 - accuracy: 0.8900 - val_loss: 0.4449 - val_accuracy: 0.8459\n",
      "Epoch 173/200\n",
      "220/220 [==============================] - 2s 10ms/step - loss: 0.2954 - accuracy: 0.8954 - val_loss: 0.4555 - val_accuracy: 0.8396\n",
      "Epoch 174/200\n",
      "220/220 [==============================] - 2s 8ms/step - loss: 0.2927 - accuracy: 0.8937 - val_loss: 0.4429 - val_accuracy: 0.8355\n",
      "Epoch 175/200\n",
      "220/220 [==============================] - 2s 8ms/step - loss: 0.2876 - accuracy: 0.8971 - val_loss: 0.4411 - val_accuracy: 0.8390\n",
      "Epoch 176/200\n",
      "220/220 [==============================] - 2s 7ms/step - loss: 0.2935 - accuracy: 0.8940 - val_loss: 0.4402 - val_accuracy: 0.8396\n",
      "Epoch 177/200\n",
      "220/220 [==============================] - 2s 7ms/step - loss: 0.2995 - accuracy: 0.8940 - val_loss: 0.4443 - val_accuracy: 0.8384\n",
      "Epoch 178/200\n",
      "220/220 [==============================] - 1s 7ms/step - loss: 0.2946 - accuracy: 0.8954 - val_loss: 0.4531 - val_accuracy: 0.8390\n",
      "Epoch 179/200\n",
      "220/220 [==============================] - 1s 7ms/step - loss: 0.2976 - accuracy: 0.8911 - val_loss: 0.4320 - val_accuracy: 0.8402\n",
      "Epoch 180/200\n",
      "220/220 [==============================] - 2s 7ms/step - loss: 0.2882 - accuracy: 0.9014 - val_loss: 0.4468 - val_accuracy: 0.8454\n",
      "Epoch 181/200\n",
      "220/220 [==============================] - 2s 7ms/step - loss: 0.2886 - accuracy: 0.8977 - val_loss: 0.4599 - val_accuracy: 0.8355\n",
      "Epoch 182/200\n",
      "220/220 [==============================] - 2s 7ms/step - loss: 0.2957 - accuracy: 0.8928 - val_loss: 0.4427 - val_accuracy: 0.8367\n",
      "Epoch 183/200\n",
      "220/220 [==============================] - 2s 8ms/step - loss: 0.2917 - accuracy: 0.8994 - val_loss: 0.4438 - val_accuracy: 0.8396\n",
      "Epoch 184/200\n",
      "220/220 [==============================] - 2s 7ms/step - loss: 0.2896 - accuracy: 0.8948 - val_loss: 0.4379 - val_accuracy: 0.8384\n",
      "Epoch 185/200\n",
      "220/220 [==============================] - 1s 6ms/step - loss: 0.2772 - accuracy: 0.9031 - val_loss: 0.4252 - val_accuracy: 0.8442\n",
      "Epoch 186/200\n",
      "220/220 [==============================] - 1s 7ms/step - loss: 0.2859 - accuracy: 0.8962 - val_loss: 0.4412 - val_accuracy: 0.8402\n",
      "Epoch 187/200\n",
      "220/220 [==============================] - 1s 6ms/step - loss: 0.2772 - accuracy: 0.8980 - val_loss: 0.4479 - val_accuracy: 0.8384\n",
      "Epoch 188/200\n",
      "220/220 [==============================] - 1s 6ms/step - loss: 0.2757 - accuracy: 0.8977 - val_loss: 0.4404 - val_accuracy: 0.8425\n",
      "Epoch 189/200\n",
      "220/220 [==============================] - 1s 6ms/step - loss: 0.2766 - accuracy: 0.9051 - val_loss: 0.4572 - val_accuracy: 0.8390\n",
      "Epoch 190/200\n",
      "220/220 [==============================] - 1s 7ms/step - loss: 0.2849 - accuracy: 0.8974 - val_loss: 0.4264 - val_accuracy: 0.8425\n",
      "Epoch 191/200\n",
      "220/220 [==============================] - 1s 6ms/step - loss: 0.2647 - accuracy: 0.9051 - val_loss: 0.4339 - val_accuracy: 0.8465\n",
      "Epoch 192/200\n",
      "220/220 [==============================] - 1s 6ms/step - loss: 0.2803 - accuracy: 0.8982 - val_loss: 0.4320 - val_accuracy: 0.8459\n",
      "Epoch 193/200\n",
      "220/220 [==============================] - 1s 6ms/step - loss: 0.2697 - accuracy: 0.8997 - val_loss: 0.4264 - val_accuracy: 0.8482\n",
      "Epoch 194/200\n",
      "220/220 [==============================] - 1s 6ms/step - loss: 0.2761 - accuracy: 0.9031 - val_loss: 0.4509 - val_accuracy: 0.8390\n",
      "Epoch 195/200\n",
      "220/220 [==============================] - 1s 7ms/step - loss: 0.2722 - accuracy: 0.9051 - val_loss: 0.4495 - val_accuracy: 0.8379\n",
      "Epoch 196/200\n",
      "220/220 [==============================] - 1s 7ms/step - loss: 0.2721 - accuracy: 0.9048 - val_loss: 0.4336 - val_accuracy: 0.8402\n",
      "Epoch 197/200\n",
      "220/220 [==============================] - 1s 6ms/step - loss: 0.2741 - accuracy: 0.9039 - val_loss: 0.4421 - val_accuracy: 0.8402\n",
      "Epoch 198/200\n",
      "220/220 [==============================] - 1s 6ms/step - loss: 0.2676 - accuracy: 0.9034 - val_loss: 0.4345 - val_accuracy: 0.8390\n",
      "Epoch 199/200\n",
      "220/220 [==============================] - 1s 6ms/step - loss: 0.2805 - accuracy: 0.8980 - val_loss: 0.4394 - val_accuracy: 0.8459\n",
      "Epoch 200/200\n",
      "220/220 [==============================] - 1s 6ms/step - loss: 0.2705 - accuracy: 0.9031 - val_loss: 0.4425 - val_accuracy: 0.8477\n"
     ]
    }
   ],
   "source": [
    "cnnhistory=model.fit(x_traincnn, y_train, batch_size=16, epochs=200, validation_data=(x_testcnn, y_test))"
   ]
  },
  {
   "cell_type": "code",
   "execution_count": 14,
   "metadata": {
    "colab": {
     "base_uri": "https://localhost:8080/",
     "height": 295
    },
    "colab_type": "code",
    "id": "WEomk3HUOwSz",
    "outputId": "1cde7e1d-64a5-4c41-b1ef-b68f08982e49"
   },
   "outputs": [
    {
     "data": {
      "image/png": "[encoded data removed]",
      "text/plain": [
       "<Figure size 640x480 with 1 Axes>"
      ]
     },
     "metadata": {},
     "output_type": "display_data"
    }
   ],
   "source": [
    "plt.plot(cnnhistory.history['loss'])\n",
    "plt.plot(cnnhistory.history['val_loss'])\n",
    "plt.title('model loss')\n",
    "plt.ylabel('loss')\n",
    "plt.xlabel('epoch')\n",
    "plt.legend(['train', 'test'], loc='upper left')\n",
    "plt.show()"
   ]
  },
  {
   "cell_type": "code",
   "execution_count": 15,
   "metadata": {
    "colab": {
     "base_uri": "https://localhost:8080/",
     "height": 295
    },
    "colab_type": "code",
    "id": "n4UNnOn80S_3",
    "outputId": "37e334a6-5adf-4fbb-c478-070c5501c5b3"
   },
   "outputs": [
    {
     "data": {
      "image/png": "[encoded data removed]",
      "text/plain": [
       "<Figure size 640x480 with 1 Axes>"
      ]
     },
     "metadata": {},
     "output_type": "display_data"
    }
   ],
   "source": [
    "plt.plot(cnnhistory.history['accuracy'])\n",
    "plt.plot(cnnhistory.history['val_accuracy'])\n",
    "plt.title('model accuracy')\n",
    "plt.ylabel('accuracy')\n",
    "plt.xlabel('epoch')\n",
    "plt.legend(['train', 'test'], loc='upper left')\n",
    "plt.show()"
   ]
  },
  {
   "cell_type": "code",
   "execution_count": 16,
   "metadata": {
    "colab": {},
    "colab_type": "code",
    "id": "CSR0-VCVPO81"
   },
   "outputs": [
    {
     "name": "stdout",
     "output_type": "stream",
     "text": [
      "55/55 [==============================] - 0s 2ms/step\n"
     ]
    }
   ],
   "source": [
    "predictions = np.argmax(model.predict(x_testcnn), axis=1)"
   ]
  },
  {
   "cell_type": "code",
   "execution_count": 17,
   "metadata": {
    "colab": {
     "base_uri": "https://localhost:8080/",
     "height": 35
    },
    "colab_type": "code",
    "id": "7uKNuzd6PVZi",
    "outputId": "44bc4bc2-057e-47a5-ee3e-8cef839277d3"
   },
   "outputs": [
    {
     "data": {
      "text/plain": [
       "array([3, 7, 2, ..., 1, 2, 4], dtype=int64)"
      ]
     },
     "execution_count": 17,
     "metadata": {},
     "output_type": "execute_result"
    }
   ],
   "source": [
    "predictions"
   ]
  },
  {
   "cell_type": "code",
   "execution_count": 18,
   "metadata": {
    "colab": {
     "base_uri": "https://localhost:8080/",
     "height": 35
    },
    "colab_type": "code",
    "id": "GhfXlBdJQFr9",
    "outputId": "500b7540-7641-41eb-fba1-e7dd0a49c475"
   },
   "outputs": [
    {
     "data": {
      "text/plain": [
       "array([3, 7, 2, ..., 1, 2, 4], dtype=int64)"
      ]
     },
     "execution_count": 18,
     "metadata": {},
     "output_type": "execute_result"
    }
   ],
   "source": [
    "y_test"
   ]
  },
  {
   "cell_type": "code",
   "execution_count": 19,
   "metadata": {
    "colab": {},
    "colab_type": "code",
    "id": "FC1heRemQJHA"
   },
   "outputs": [],
   "source": [
    "new_Ytest = y_test.astype(int)"
   ]
  },
  {
   "cell_type": "code",
   "execution_count": 20,
   "metadata": {
    "colab": {
     "base_uri": "https://localhost:8080/",
     "height": 35
    },
    "colab_type": "code",
    "id": "65ZqfKMHQNBY",
    "outputId": "d1f51eb3-ab89-492a-adc3-0d770a342096"
   },
   "outputs": [
    {
     "data": {
      "text/plain": [
       "array([3, 7, 2, ..., 1, 2, 4])"
      ]
     },
     "execution_count": 20,
     "metadata": {},
     "output_type": "execute_result"
    }
   ],
   "source": [
    "new_Ytest"
   ]
  },
  {
   "cell_type": "code",
   "execution_count": 21,
   "metadata": {
    "colab": {
     "base_uri": "https://localhost:8080/",
     "height": 284
    },
    "colab_type": "code",
    "id": "wK2gsnN-QO1C",
    "outputId": "fdd8cf81-901f-42a9-ac51-0cbe2fbad867"
   },
   "outputs": [
    {
     "name": "stdout",
     "output_type": "stream",
     "text": [
      "              precision    recall  f1-score   support\n",
      "\n",
      "           0       0.95      0.89      0.92       195\n",
      "           1       0.64      0.93      0.76       127\n",
      "           2       0.90      0.76      0.82       266\n",
      "           3       0.91      0.77      0.84       257\n",
      "           4       0.92      0.89      0.91       258\n",
      "           5       0.75      0.90      0.82       238\n",
      "           6       0.87      0.85      0.86       207\n",
      "           7       0.84      0.85      0.84       185\n",
      "\n",
      "    accuracy                           0.85      1733\n",
      "   macro avg       0.85      0.86      0.85      1733\n",
      "weighted avg       0.86      0.85      0.85      1733\n",
      "\n"
     ]
    }
   ],
   "source": [
    "from sklearn.metrics import classification_report\n",
    "report = classification_report(new_Ytest, predictions)\n",
    "print(report)"
   ]
  },
  {
   "cell_type": "code",
   "execution_count": 22,
   "metadata": {
    "colab": {
     "base_uri": "https://localhost:8080/",
     "height": 159
    },
    "colab_type": "code",
    "id": "XipKuFRTQSFj",
    "outputId": "c55049fe-4461-4899-e70a-87555479dd4c"
   },
   "outputs": [
    {
     "name": "stdout",
     "output_type": "stream",
     "text": [
      "[[173  15   0   5   0   1   0   1]\n",
      " [  3 118   1   1   0   3   1   0]\n",
      " [  1  27 202   0  11  14   5   6]\n",
      " [  4  11   3 199   0  30   3   7]\n",
      " [  0   2   5   0 230   9   7   5]\n",
      " [  0   1   6  11   2 214   1   3]\n",
      " [  0   7   3   1   5   7 175   9]\n",
      " [  1   3   5   1   2   6   9 158]]\n"
     ]
    }
   ],
   "source": [
    "from sklearn.metrics import confusion_matrix\n",
    "matrix = confusion_matrix(new_Ytest, predictions)\n",
    "print (matrix)\n",
    "\n",
    "# 0 = neutral, 1 = calm, 2 = happy, 3 = sad, 4 = angry, 5 = fearful, 6 = disgust, 7 = surprised"
   ]
  },
  {
   "cell_type": "code",
   "execution_count": 23,
   "metadata": {
    "colab": {
     "base_uri": "https://localhost:8080/",
     "height": 35
    },
    "colab_type": "code",
    "id": "ORm3pz9NQdlW",
    "outputId": "a50537b9-f833-4d66-cafb-eec3f3fd219a"
   },
   "outputs": [
    {
     "name": "stdout",
     "output_type": "stream",
     "text": [
      "MODEL SAVED\n"
     ]
    }
   ],
   "source": [
    "model.save('testing10_model.h5')\n",
    "print(\"MODEL SAVED\")"
   ]
  },
  {
   "cell_type": "code",
   "execution_count": 24,
   "metadata": {
    "colab": {
     "base_uri": "https://localhost:8080/",
     "height": 657
    },
    "colab_type": "code",
    "id": "6aFHzp7PQvMJ",
    "outputId": "fcd82c73-683a-4dde-c866-aafaa285fa66"
   },
   "outputs": [
    {
     "name": "stdout",
     "output_type": "stream",
     "text": [
      "Model: \"sequential\"\n",
      "_________________________________________________________________\n",
      " Layer (type)                Output Shape              Param #   \n",
      "=================================================================\n",
      " conv1d (Conv1D)             (None, 40, 64)            384       \n",
      "                                                                 \n",
      " activation (Activation)     (None, 40, 64)            0         \n",
      "                                                                 \n",
      " dropout (Dropout)           (None, 40, 64)            0         \n",
      "                                                                 \n",
      " max_pooling1d (MaxPooling1D  (None, 10, 64)           0         \n",
      " )                                                               \n",
      "                                                                 \n",
      " conv1d_1 (Conv1D)           (None, 10, 128)           41088     \n",
      "                                                                 \n",
      " activation_1 (Activation)   (None, 10, 128)           0         \n",
      "                                                                 \n",
      " dropout_1 (Dropout)         (None, 10, 128)           0         \n",
      "                                                                 \n",
      " max_pooling1d_1 (MaxPooling  (None, 2, 128)           0         \n",
      " 1D)                                                             \n",
      "                                                                 \n",
      " conv1d_2 (Conv1D)           (None, 2, 256)            164096    \n",
      "                                                                 \n",
      " activation_2 (Activation)   (None, 2, 256)            0         \n",
      "                                                                 \n",
      " dropout_2 (Dropout)         (None, 2, 256)            0         \n",
      "                                                                 \n",
      " flatten (Flatten)           (None, 512)               0         \n",
      "                                                                 \n",
      " dense (Dense)               (None, 8)                 4104      \n",
      "                                                                 \n",
      " activation_3 (Activation)   (None, 8)                 0         \n",
      "                                                                 \n",
      "=================================================================\n",
      "Total params: 209,672\n",
      "Trainable params: 209,672\n",
      "Non-trainable params: 0\n",
      "_________________________________________________________________\n"
     ]
    }
   ],
   "source": [
    "new_model=keras.models.load_model('testing10_model.h5')\n",
    "new_model.summary()"
   ]
  },
  {
   "cell_type": "code",
   "execution_count": 25,
   "metadata": {
    "colab": {
     "base_uri": "https://localhost:8080/",
     "height": 52
    },
    "colab_type": "code",
    "id": "whzXUxB5Q06g",
    "outputId": "95bca73d-1171-4b97-c46f-2c7c74e5587b"
   },
   "outputs": [
    {
     "name": "stdout",
     "output_type": "stream",
     "text": [
      "55/55 [==============================] - 0s 2ms/step - loss: 0.4425 - accuracy: 0.8477\n",
      "Restored model, accuracy: 84.77%\n"
     ]
    }
   ],
   "source": [
    "loss, acc = new_model.evaluate(x_testcnn, y_test)\n",
    "print(\"Restored model, accuracy: {:5.2f}%\".format(100*acc))"
   ]
  },
  {
   "cell_type": "code",
   "execution_count": 33,
   "metadata": {
    "colab": {},
    "colab_type": "code",
    "id": "r6n31dxyQ5Sp",
    "scrolled": true
   },
   "outputs": [
    {
     "name": "stdout",
     "output_type": "stream",
     "text": [
      "Original X_test shape: (1733, 40)\n",
      "55/55 [==============================] - 0s 2ms/step\n",
      "\n",
      "Accuracy: 84.77%\n",
      "\n",
      "Classification Report:\n",
      "               precision    recall  f1-score   support\n",
      "\n",
      "           0       0.95      0.89      0.92       195\n",
      "           1       0.64      0.93      0.76       127\n",
      "           2       0.90      0.76      0.82       266\n",
      "           3       0.91      0.77      0.84       257\n",
      "           4       0.92      0.89      0.91       258\n",
      "           5       0.75      0.90      0.82       238\n",
      "           6       0.87      0.85      0.86       207\n",
      "           7       0.84      0.85      0.84       185\n",
      "\n",
      "    accuracy                           0.85      1733\n",
      "   macro avg       0.85      0.86      0.85      1733\n",
      "weighted avg       0.86      0.85      0.85      1733\n",
      "\n"
     ]
    },
    {
     "data": {
      "image/png": "[encoded data removed]",
      "text/plain": [
       "<Figure size 1000x600 with 2 Axes>"
      ]
     },
     "metadata": {},
     "output_type": "display_data"
    }
   ],
   "source": [
    "from sklearn.metrics import accuracy_score, classification_report, confusion_matrix\n",
    "import seaborn as sns\n",
    "import matplotlib.pyplot as plt\n",
    "import numpy as np\n",
    "\n",
    "# Ensure X_test is an array\n",
    "X_test = np.array(X_test)\n",
    "\n",
    "print(\"Original X_test shape:\", X_test.shape)\n",
    "\n",
    "# Reshape for Conv1D: (samples, timesteps, channels)\n",
    "if len(X_test.shape) == 2:\n",
    "    X_test_reshaped = X_test.reshape(X_test.shape[0], X_test.shape[1], 1)\n",
    "else:\n",
    "    X_test_reshaped = X_test  # already in the right shape\n",
    "\n",
    "# Predict\n",
    "y_prob = model.predict(X_test_reshaped)\n",
    "y_pred = np.argmax(y_prob, axis=1)\n",
    "\n",
    "# Convert y_test to labels if one-hot encoded\n",
    "y_test = np.array(y_test)\n",
    "if len(y_test.shape) > 1 and y_test.shape[1] > 1:\n",
    "    y_true = np.argmax(y_test, axis=1)\n",
    "else:\n",
    "    y_true = y_test\n",
    "\n",
    "# Accuracy\n",
    "accuracy = accuracy_score(y_true, y_pred) * 100\n",
    "print(f\"\\nAccuracy: {accuracy:.2f}%\")\n",
    "\n",
    "# Classification Report\n",
    "print(\"\\nClassification Report:\\n\", classification_report(y_true, y_pred))\n",
    "\n",
    "# Confusion Matrix\n",
    "plt.figure(figsize=(10, 6))\n",
    "cm = confusion_matrix(y_true, y_pred)\n",
    "sns.heatmap(cm, annot=True, fmt='d', cmap='Blues',\n",
    "            xticklabels=np.unique(y_true),\n",
    "            yticklabels=np.unique(y_true))\n",
    "plt.title(\"CNN\")\n",
    "plt.xlabel(\"Predicted\")\n",
    "plt.ylabel(\"True\")\n",
    "plt.show()\n"
   ]
  },
  {
   "cell_type": "code",
   "execution_count": null,
   "metadata": {},
   "outputs": [],
   "source": []
  }
 ],
 "metadata": {
  "colab": {
   "collapsed_sections": [],
   "name": "Testing10(Deep Learning).ipynb",
   "provenance": []
  },
  "kernelspec": {
   "display_name": "Python 3 (ipykernel)",
   "language": "python",
   "name": "python3"
  },
  "language_info": {
   "codemirror_mode": {
    "name": "ipython",
    "version": 3
   },
   "file_extension": ".py",
   "mimetype": "text/x-python",
   "name": "python",
   "nbconvert_exporter": "python",
   "pygments_lexer": "ipython3",
   "version": "3.11.5"
  }
 },
 "nbformat": 4,
 "nbformat_minor": 1
}
