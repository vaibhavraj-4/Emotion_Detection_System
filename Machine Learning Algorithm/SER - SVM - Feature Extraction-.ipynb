{
 "cells": [
  {
   "cell_type": "markdown",
   "metadata": {},
   "source": [
    "# Speech Emotion Recognition - Feature Extraction\n",
    "\n",
    "Databases used\n",
    "\n",
    "* The Ryerson Audio-Visual Database of Emotional Speech and Song (RAVDESS)\n",
    "* Toronto emotional speech set (TESS)"
   ]
  },
  {
   "cell_type": "markdown",
   "metadata": {},
   "source": [
    "### Import Libraries\n",
    "\n",
    "Import necessary libraries"
   ]
  },
  {
   "cell_type": "code",
   "execution_count": 1,
   "metadata": {
    "colab": {},
    "colab_type": "code",
    "id": "4Psuv3UPLaPR"
   },
   "outputs": [],
   "source": [
    "import glob\n",
    "import os\n",
    "import librosa\n",
    "import time\n",
    "import numpy as np\n",
    "import pandas as pd"
   ]
  },
  {
   "cell_type": "markdown",
   "metadata": {
    "colab_type": "text",
    "id": "rBpIgx9bkdgJ"
   },
   "source": [
    "### Load all files\n",
    "\n",
    "We will create our numpy array extracting Mel-frequency cepstral coefficients (MFCCs) while the classes to predict will be extracted from the name of the file."
   ]
  },
  {
   "cell_type": "markdown",
   "metadata": {},
   "source": [
    "#### Defining emotions to classify \n",
    "\n",
    "Selecting the emotions to be classified. Note that the emotions 'neutral', 'calm' and 'surprised' are only found in RAVDESS dataset and 'pleasantly surprised' or 'ps' is only available in TESS dataset. To combine all the emotions from both datasets into 8 emotion classes, we have changed 'pleasantly surprised' to 'surprised' and 'fearful' to 'fear'"
   ]
  },
  {
   "cell_type": "code",
   "execution_count": 2,
   "metadata": {
    "colab": {},
    "colab_type": "code",
    "id": "s16XwP5LK8a3"
   },
   "outputs": [],
   "source": [
    "emotions={\n",
    "  '01':'neutral',\n",
    "  '02':'calm',\n",
    "  '03':'happy',\n",
    "  '04':'sad',\n",
    "  '05':'angry',\n",
    "  '06':'fear',\n",
    "  '07':'disgust',\n",
    "  '08':'surprised'\n",
    "}\n",
    "\n",
    "#defined tess emotions to test on TESS dataset only\n",
    "tess_emotions=['angry','disgust','fear','ps','happy','sad']\n",
    "\n",
    "##defined RAVDESS emotions to test on RAVDESS dataset only\n",
    "ravdess_emotions=['neutral','calm','angry', 'happy','disgust','sad','fear','surprised']\n",
    "\n",
    "observed_emotions = ['sad','angry','happy','disgust','surprised','neutral','calm','fear']"
   ]
  },
  {
   "cell_type": "markdown",
   "metadata": {},
   "source": [
    "#### Feature extraction\n",
    "\n",
    "Using librosa package we can extract the MFCC features. This function loads the file give the file path and after resampling and computing MFCC features, returns the features. We have selected the no. of MFCCs as 40.\n",
    "\n",
    "https://librosa.org/librosa/generated/librosa.feature.mfcc.html"
   ]
  },
  {
   "cell_type": "code",
   "execution_count": 3,
   "metadata": {
    "colab": {},
    "colab_type": "code",
    "id": "h9a81pkWLCs1"
   },
   "outputs": [],
   "source": [
    "def extract_feature(file_name, mfcc):\n",
    "    X, sample_rate = librosa.load(os.path.join(file_name), res_type='kaiser_fast')\n",
    "    \n",
    "    result = np.array([])  # Initialize result as an empty array\n",
    "    \n",
    "    if mfcc:\n",
    "        mfccs = np.mean(librosa.feature.mfcc(y=X, sr=sample_rate, n_mfcc=40).T, axis=0)\n",
    "        result = np.hstack((result, mfccs))  # Append MFCC features to result\n",
    "    \n",
    "    return result\n"
   ]
  },
  {
   "cell_type": "markdown",
   "metadata": {},
   "source": [
    "#### Choosing a dataset\n",
    "\n",
    "Choose the dataset(s) you want to load using the following function"
   ]
  },
  {
   "cell_type": "code",
   "execution_count": 4,
   "metadata": {},
   "outputs": [],
   "source": [
    "def dataset_options():\n",
    "    # choose datasets\n",
    "    ravdess = True\n",
    "    tess = True\n",
    "    ravdess_speech = False\n",
    "    ravdess_song = False\n",
    "    data = {'ravdess':ravdess, 'ravdess_speech':ravdess_speech, 'ravdess_song':ravdess_song, 'tess':tess}\n",
    "    print(data)\n",
    "    return data"
   ]
  },
  {
   "cell_type": "markdown",
   "metadata": {},
   "source": [
    "#### Load data\n",
    "\n",
    "Load data from the datasets required which is obtained by calling the function dataset__options(). Extract features from each file with the selected emotions in chosen datasets using the extract_feature() function defined."
   ]
  },
  {
   "cell_type": "code",
   "execution_count": 5,
   "metadata": {
    "colab": {},
    "colab_type": "code",
    "id": "RaV2hMcxLGZd"
   },
   "outputs": [],
   "source": [
    "def dataset_options():\n",
    "    # choose datasets\n",
    "    ravdess = True\n",
    "    tess = True\n",
    "    ravdess_speech = False\n",
    "    ravdess_song = False\n",
    "    data = {'ravdess': ravdess, 'ravdess_speech': ravdess_speech, 'ravdess_song': ravdess_song, 'tess': tess}\n",
    "    print(data)\n",
    "    return data\n",
    "\n",
    "\n",
    "def load_data(test_size=0.2):\n",
    "    import os\n",
    "    import glob\n",
    "\n",
    "    x, y = [], []\n",
    "\n",
    "    # Feature to extract\n",
    "    mfcc = True\n",
    "\n",
    "    data = dataset_options()\n",
    "\n",
    "    ravdess_base_path = r\"C:\\\\Users\\\\vaibh\\\\Desktop\\\\Final Major Project\\\\Machine Learning Algorithm\\\\Datasets\\\\RAVDESS\\\\\"\n",
    "    tess_base_path = r\"C:\\\\Users\\\\vaibh\\\\Desktop\\\\Final Major Project\\\\Machine Learning Algorithm\\\\Datasets\\\\\"\n",
    "\n",
    "    paths = []\n",
    "\n",
    "    if data['ravdess']:\n",
    "        paths.append(os.path.join(ravdess_base_path, \"*\", \"Actor_*\", \"*.wav\"))\n",
    "    elif data['ravdess_speech']:\n",
    "        paths.append(os.path.join(ravdess_base_path, \"Speech\", \"Actor_*\", \"*.wav\"))\n",
    "    elif data['ravdess_song']:\n",
    "        paths.append(os.path.join(ravdess_base_path, \"Song\", \"Actor_*\", \"*.wav\"))\n",
    "\n",
    "    for path in paths:\n",
    "        for file in glob.glob(path):\n",
    "            file_name = os.path.basename(file)\n",
    "            emotion = emotions[file_name.split(\"-\")[2]]\n",
    "            if emotion not in observed_emotions:\n",
    "                continue\n",
    "            feature = extract_feature(file, mfcc)\n",
    "            x.append(feature)\n",
    "            y.append(emotion)\n",
    "\n",
    "    if data['tess']:\n",
    "        for file in glob.glob(os.path.join(tess_base_path, \"*AF_*\", \"*.wav\")):\n",
    "            file_name = os.path.basename(file)\n",
    "            emotion = file_name.split(\"_\")[2][:-4]\n",
    "            if emotion == 'ps':\n",
    "                emotion = 'surprised'\n",
    "            if emotion not in observed_emotions:\n",
    "                continue\n",
    "            feature = extract_feature(file, mfcc)\n",
    "            x.append(feature)\n",
    "            y.append(emotion)\n",
    "\n",
    "    return {\"X\": x, \"y\": y}\n"
   ]
  },
  {
   "cell_type": "code",
   "execution_count": 6,
   "metadata": {},
   "outputs": [],
   "source": [
    "# pip install resampy"
   ]
  },
  {
   "cell_type": "code",
   "execution_count": 7,
   "metadata": {
    "colab": {
     "base_uri": "https://localhost:8080/",
     "height": 34
    },
    "colab_type": "code",
    "id": "LVbx68UMLMAT",
    "outputId": "51a46f14-72ff-4825-83c5-0ce8673f5307"
   },
   "outputs": [
    {
     "name": "stdout",
     "output_type": "stream",
     "text": [
      "{'ravdess': True, 'ravdess_speech': False, 'ravdess_song': False, 'tess': True}\n",
      "--- Data loaded. Loading time: 116.51460266113281 seconds ---\n"
     ]
    }
   ],
   "source": [
    "start_time = time.time()\n",
    "\n",
    "Trial_dict = load_data(test_size = 0.3)\n",
    "\n",
    "print(\"--- Data loaded. Loading time: %s seconds ---\" % (time.time() - start_time))"
   ]
  },
  {
   "cell_type": "code",
   "execution_count": 8,
   "metadata": {
    "colab": {},
    "colab_type": "code",
    "id": "-WAO-j4iLPSn"
   },
   "outputs": [],
   "source": [
    "X = pd.DataFrame(Trial_dict[\"X\"])\n",
    "y = pd.DataFrame(Trial_dict[\"y\"])"
   ]
  },
  {
   "cell_type": "code",
   "execution_count": 9,
   "metadata": {
    "colab": {
     "base_uri": "https://localhost:8080/",
     "height": 34
    },
    "colab_type": "code",
    "id": "Huw2Md1XLQZm",
    "outputId": "6a6cf90d-8449-4990-8bce-af37d4b50706"
   },
   "outputs": [
    {
     "data": {
      "text/plain": [
       "((2452, 40), (2452, 1))"
      ]
     },
     "execution_count": 9,
     "metadata": {},
     "output_type": "execute_result"
    }
   ],
   "source": [
    "X.shape, y.shape"
   ]
  },
  {
   "cell_type": "code",
   "execution_count": 10,
   "metadata": {},
   "outputs": [],
   "source": [
    "#renaming the label column to emotion\n",
    "y=y.rename(columns= {0: 'emotion'})"
   ]
  },
  {
   "cell_type": "code",
   "execution_count": 11,
   "metadata": {},
   "outputs": [],
   "source": [
    "#concatinating the attributes and label into a single dataframe\n",
    "data = pd.concat([X, y], axis =1)"
   ]
  },
  {
   "cell_type": "code",
   "execution_count": 12,
   "metadata": {},
   "outputs": [
    {
     "data": {
      "text/html": [
       "<div>\n",
       "<style scoped>\n",
       "    .dataframe tbody tr th:only-of-type {\n",
       "        vertical-align: middle;\n",
       "    }\n",
       "\n",
       "    .dataframe tbody tr th {\n",
       "        vertical-align: top;\n",
       "    }\n",
       "\n",
       "    .dataframe thead th {\n",
       "        text-align: right;\n",
       "    }\n",
       "</style>\n",
       "<table border=\"1\" class=\"dataframe\">\n",
       "  <thead>\n",
       "    <tr style=\"text-align: right;\">\n",
       "      <th></th>\n",
       "      <th>0</th>\n",
       "      <th>1</th>\n",
       "      <th>2</th>\n",
       "      <th>3</th>\n",
       "      <th>4</th>\n",
       "      <th>5</th>\n",
       "      <th>6</th>\n",
       "      <th>7</th>\n",
       "      <th>8</th>\n",
       "      <th>9</th>\n",
       "      <th>...</th>\n",
       "      <th>31</th>\n",
       "      <th>32</th>\n",
       "      <th>33</th>\n",
       "      <th>34</th>\n",
       "      <th>35</th>\n",
       "      <th>36</th>\n",
       "      <th>37</th>\n",
       "      <th>38</th>\n",
       "      <th>39</th>\n",
       "      <th>emotion</th>\n",
       "    </tr>\n",
       "  </thead>\n",
       "  <tbody>\n",
       "    <tr>\n",
       "      <th>0</th>\n",
       "      <td>-592.519714</td>\n",
       "      <td>55.269863</td>\n",
       "      <td>-19.240614</td>\n",
       "      <td>14.985035</td>\n",
       "      <td>-4.303793</td>\n",
       "      <td>-0.782968</td>\n",
       "      <td>-15.683035</td>\n",
       "      <td>-4.746462</td>\n",
       "      <td>-22.302805</td>\n",
       "      <td>-5.347614</td>\n",
       "      <td>...</td>\n",
       "      <td>-6.584931</td>\n",
       "      <td>-2.434462</td>\n",
       "      <td>-3.743651</td>\n",
       "      <td>-0.299833</td>\n",
       "      <td>1.267962</td>\n",
       "      <td>5.327148</td>\n",
       "      <td>3.982636</td>\n",
       "      <td>8.654726</td>\n",
       "      <td>11.515517</td>\n",
       "      <td>neutral</td>\n",
       "    </tr>\n",
       "    <tr>\n",
       "      <th>1</th>\n",
       "      <td>-571.771179</td>\n",
       "      <td>53.821236</td>\n",
       "      <td>-19.770306</td>\n",
       "      <td>14.672212</td>\n",
       "      <td>-3.221300</td>\n",
       "      <td>-2.219379</td>\n",
       "      <td>-15.660699</td>\n",
       "      <td>-4.115021</td>\n",
       "      <td>-21.762812</td>\n",
       "      <td>-0.923150</td>\n",
       "      <td>...</td>\n",
       "      <td>-6.433335</td>\n",
       "      <td>-2.461544</td>\n",
       "      <td>-4.143042</td>\n",
       "      <td>0.553830</td>\n",
       "      <td>1.998689</td>\n",
       "      <td>5.020371</td>\n",
       "      <td>4.224606</td>\n",
       "      <td>9.785756</td>\n",
       "      <td>11.845788</td>\n",
       "      <td>neutral</td>\n",
       "    </tr>\n",
       "    <tr>\n",
       "      <th>2</th>\n",
       "      <td>-579.216675</td>\n",
       "      <td>54.232811</td>\n",
       "      <td>-15.242695</td>\n",
       "      <td>17.250660</td>\n",
       "      <td>-4.751227</td>\n",
       "      <td>0.021345</td>\n",
       "      <td>-13.251750</td>\n",
       "      <td>-5.477705</td>\n",
       "      <td>-20.139534</td>\n",
       "      <td>-4.198607</td>\n",
       "      <td>...</td>\n",
       "      <td>-5.051620</td>\n",
       "      <td>-1.963996</td>\n",
       "      <td>-3.542640</td>\n",
       "      <td>-0.745385</td>\n",
       "      <td>1.221582</td>\n",
       "      <td>3.439565</td>\n",
       "      <td>5.602417</td>\n",
       "      <td>9.031712</td>\n",
       "      <td>9.748875</td>\n",
       "      <td>neutral</td>\n",
       "    </tr>\n",
       "    <tr>\n",
       "      <th>3</th>\n",
       "      <td>-581.090637</td>\n",
       "      <td>53.249722</td>\n",
       "      <td>-19.030127</td>\n",
       "      <td>17.035284</td>\n",
       "      <td>-5.648746</td>\n",
       "      <td>1.875090</td>\n",
       "      <td>-16.216503</td>\n",
       "      <td>-5.108720</td>\n",
       "      <td>-21.046432</td>\n",
       "      <td>-2.953222</td>\n",
       "      <td>...</td>\n",
       "      <td>-5.261817</td>\n",
       "      <td>-2.072452</td>\n",
       "      <td>-4.843050</td>\n",
       "      <td>0.880779</td>\n",
       "      <td>1.297034</td>\n",
       "      <td>4.160462</td>\n",
       "      <td>5.900162</td>\n",
       "      <td>9.407314</td>\n",
       "      <td>10.992938</td>\n",
       "      <td>neutral</td>\n",
       "    </tr>\n",
       "    <tr>\n",
       "      <th>4</th>\n",
       "      <td>-592.520569</td>\n",
       "      <td>61.175182</td>\n",
       "      <td>-16.242025</td>\n",
       "      <td>16.972326</td>\n",
       "      <td>-1.740968</td>\n",
       "      <td>-0.389398</td>\n",
       "      <td>-15.755614</td>\n",
       "      <td>-1.111939</td>\n",
       "      <td>-19.680891</td>\n",
       "      <td>-3.488038</td>\n",
       "      <td>...</td>\n",
       "      <td>2.623967</td>\n",
       "      <td>3.312066</td>\n",
       "      <td>-4.676118</td>\n",
       "      <td>-4.766972</td>\n",
       "      <td>-4.045164</td>\n",
       "      <td>1.991833</td>\n",
       "      <td>5.520200</td>\n",
       "      <td>10.280448</td>\n",
       "      <td>11.302133</td>\n",
       "      <td>calm</td>\n",
       "    </tr>\n",
       "  </tbody>\n",
       "</table>\n",
       "<p>5 rows × 41 columns</p>\n",
       "</div>"
      ],
      "text/plain": [
       "            0          1          2          3         4         5          6  \\\n",
       "0 -592.519714  55.269863 -19.240614  14.985035 -4.303793 -0.782968 -15.683035   \n",
       "1 -571.771179  53.821236 -19.770306  14.672212 -3.221300 -2.219379 -15.660699   \n",
       "2 -579.216675  54.232811 -15.242695  17.250660 -4.751227  0.021345 -13.251750   \n",
       "3 -581.090637  53.249722 -19.030127  17.035284 -5.648746  1.875090 -16.216503   \n",
       "4 -592.520569  61.175182 -16.242025  16.972326 -1.740968 -0.389398 -15.755614   \n",
       "\n",
       "          7          8         9  ...        31        32        33        34  \\\n",
       "0 -4.746462 -22.302805 -5.347614  ... -6.584931 -2.434462 -3.743651 -0.299833   \n",
       "1 -4.115021 -21.762812 -0.923150  ... -6.433335 -2.461544 -4.143042  0.553830   \n",
       "2 -5.477705 -20.139534 -4.198607  ... -5.051620 -1.963996 -3.542640 -0.745385   \n",
       "3 -5.108720 -21.046432 -2.953222  ... -5.261817 -2.072452 -4.843050  0.880779   \n",
       "4 -1.111939 -19.680891 -3.488038  ...  2.623967  3.312066 -4.676118 -4.766972   \n",
       "\n",
       "         35        36        37         38         39  emotion  \n",
       "0  1.267962  5.327148  3.982636   8.654726  11.515517  neutral  \n",
       "1  1.998689  5.020371  4.224606   9.785756  11.845788  neutral  \n",
       "2  1.221582  3.439565  5.602417   9.031712   9.748875  neutral  \n",
       "3  1.297034  4.160462  5.900162   9.407314  10.992938  neutral  \n",
       "4 -4.045164  1.991833  5.520200  10.280448  11.302133     calm  \n",
       "\n",
       "[5 rows x 41 columns]"
      ]
     },
     "execution_count": 12,
     "metadata": {},
     "output_type": "execute_result"
    }
   ],
   "source": [
    "data.head()"
   ]
  },
  {
   "cell_type": "markdown",
   "metadata": {},
   "source": [
    "## Shuffling data"
   ]
  },
  {
   "cell_type": "code",
   "execution_count": 13,
   "metadata": {},
   "outputs": [],
   "source": [
    "#reindexing to shuffle the data at random\n",
    "data = data.reindex(np.random.permutation(data.index))"
   ]
  },
  {
   "cell_type": "code",
   "execution_count": 14,
   "metadata": {},
   "outputs": [],
   "source": [
    "# Storing shuffled ravdess and tess data to avoid loading again\n",
    "data.to_csv(\"RAVTESS_MFCC_Observed.csv\")"
   ]
  },
  {
   "cell_type": "code",
   "execution_count": null,
   "metadata": {},
   "outputs": [],
   "source": []
  }
 ],
 "metadata": {
  "colab": {
   "collapsed_sections": [],
   "name": "SVM trial 2.ipynb",
   "provenance": []
  },
  "kernelspec": {
   "display_name": "Python 3 (ipykernel)",
   "language": "python",
   "name": "python3"
  },
  "language_info": {
   "codemirror_mode": {
    "name": "ipython",
    "version": 3
   },
   "file_extension": ".py",
   "mimetype": "text/x-python",
   "name": "python",
   "nbconvert_exporter": "python",
   "pygments_lexer": "ipython3",
   "version": "3.11.5"
  }
 },
 "nbformat": 4,
 "nbformat_minor": 1
}
