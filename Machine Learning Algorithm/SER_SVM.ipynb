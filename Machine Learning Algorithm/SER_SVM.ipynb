{
 "cells": [
  {
   "cell_type": "code",
   "execution_count": 1,
   "metadata": {
    "colab": {},
    "colab_type": "code",
    "id": "VZWf5RDrO8Ta"
   },
   "outputs": [],
   "source": [
    "import pandas as pd\n",
    "import numpy as np"
   ]
  },
  {
   "cell_type": "code",
   "execution_count": 2,
   "metadata": {
    "colab": {
     "base_uri": "https://localhost:8080/",
     "height": 170
    },
    "colab_type": "code",
    "id": "5JBkWhfnQQDt",
    "outputId": "8d719b31-f9b8-4904-9d16-4c69e1fd9027"
   },
   "outputs": [
    {
     "name": "stdout",
     "output_type": "stream",
     "text": [
      "data loaded in 0.061747074127197266ms\n",
      "   Unnamed: 0           0          1          2          3          4  \\\n",
      "0        4882 -366.748291  46.785877 -32.808887  -2.023243 -18.644951   \n",
      "1        3975 -345.137543  31.164049 -16.423462  31.539543 -24.091246   \n",
      "2        2763 -464.435730  86.838699  20.752911  19.927128  15.061339   \n",
      "3        2003 -619.466003  62.775608   0.588664  22.818275   8.705647   \n",
      "4        4467 -308.117981  38.490005 -16.501511  20.986532 -17.435190   \n",
      "\n",
      "           5          6          7          8  ...         31        32  \\\n",
      "0  -1.328158 -26.783998 -11.554439 -16.565105  ...   8.238031  2.859965   \n",
      "1  -1.723528  -6.422258 -13.986626 -10.756482  ...  12.536610  2.141153   \n",
      "2   6.977795 -15.664279   8.531913 -21.940149  ...  -0.216900  3.597229   \n",
      "3  10.100799   4.076850  -2.424498  -6.344779  ...   1.269319  0.962817   \n",
      "4   4.257079  -9.640630 -11.041712  -5.308348  ...   8.131878  2.128637   \n",
      "\n",
      "         33        34         35         36         37         38        39  \\\n",
      "0  6.037794  8.714364   5.924141   7.087118   2.074696   2.413672  0.470917   \n",
      "1  0.733880 -2.208022   3.708393   4.319043   2.138687  -2.676383 -2.275154   \n",
      "2  4.463108  8.052644  12.266542  12.561758  10.798446  11.336397  5.358108   \n",
      "3  0.427132 -0.805891  -1.997812   0.220522  -0.709535  -1.071736 -2.630363   \n",
      "4  0.217050  1.373086   3.948023   1.793458  -1.298949  -1.253106 -0.989288   \n",
      "\n",
      "     emotion  \n",
      "0  surprised  \n",
      "1      angry  \n",
      "2    disgust  \n",
      "3      angry  \n",
      "4      happy  \n",
      "\n",
      "[5 rows x 42 columns]\n"
     ]
    }
   ],
   "source": [
    "import time\n",
    "\n",
    "starting_time = time.time()\n",
    "data = pd.read_csv('C:\\\\Users\\\\vaibh\\\\Desktop\\\\Final Major Project\\\\Machine Learning Algorithm\\\\Datasets\\\\RAVTESS_MFCC_Observed.csv')\n",
    "print(\"data loaded in \" + str(time.time()-starting_time) + \"ms\")\n",
    "\n",
    "print(data.head())"
   ]
  },
  {
   "cell_type": "code",
   "execution_count": 3,
   "metadata": {
    "colab": {
     "base_uri": "https://localhost:8080/",
     "height": 34
    },
    "colab_type": "code",
    "id": "Gnn24ErtQXIM",
    "outputId": "710ff011-0a32-4050-e7d5-fb9fd820e34e"
   },
   "outputs": [
    {
     "data": {
      "text/plain": [
       "(5252, 42)"
      ]
     },
     "execution_count": 3,
     "metadata": {},
     "output_type": "execute_result"
    }
   ],
   "source": [
    "data.shape"
   ]
  },
  {
   "cell_type": "code",
   "execution_count": 4,
   "metadata": {
    "colab": {
     "base_uri": "https://localhost:8080/",
     "height": 102
    },
    "colab_type": "code",
    "id": "6UlGjAhtlhl2",
    "outputId": "5146eb7a-e950-416c-d28e-412f40cb7313"
   },
   "outputs": [
    {
     "data": {
      "text/plain": [
       "Index(['Unnamed: 0', '0', '1', '2', '3', '4', '5', '6', '7', '8', '9', '10',\n",
       "       '11', '12', '13', '14', '15', '16', '17', '18', '19', '20', '21', '22',\n",
       "       '23', '24', '25', '26', '27', '28', '29', '30', '31', '32', '33', '34',\n",
       "       '35', '36', '37', '38', '39', 'emotion'],\n",
       "      dtype='object')"
      ]
     },
     "execution_count": 4,
     "metadata": {},
     "output_type": "execute_result"
    }
   ],
   "source": [
    "#printing all columns\n",
    "data.columns"
   ]
  },
  {
   "cell_type": "code",
   "execution_count": 5,
   "metadata": {
    "colab": {},
    "colab_type": "code",
    "id": "7T9PgDj1luY1"
   },
   "outputs": [],
   "source": [
    "#dropping the column Unnamed: 0 to removed shuffled index\n",
    "data = data.drop('Unnamed: 0',axis=1)"
   ]
  },
  {
   "cell_type": "code",
   "execution_count": 6,
   "metadata": {
    "colab": {
     "base_uri": "https://localhost:8080/",
     "height": 102
    },
    "colab_type": "code",
    "id": "9XYzHT00l1vu",
    "outputId": "b0b2da96-31af-430b-cc33-6038c9348681"
   },
   "outputs": [
    {
     "data": {
      "text/plain": [
       "Index(['0', '1', '2', '3', '4', '5', '6', '7', '8', '9', '10', '11', '12',\n",
       "       '13', '14', '15', '16', '17', '18', '19', '20', '21', '22', '23', '24',\n",
       "       '25', '26', '27', '28', '29', '30', '31', '32', '33', '34', '35', '36',\n",
       "       '37', '38', '39', 'emotion'],\n",
       "      dtype='object')"
      ]
     },
     "execution_count": 6,
     "metadata": {},
     "output_type": "execute_result"
    }
   ],
   "source": [
    "data.columns"
   ]
  },
  {
   "cell_type": "code",
   "execution_count": 7,
   "metadata": {
    "colab": {},
    "colab_type": "code",
    "id": "dFz_djRCj8-7"
   },
   "outputs": [],
   "source": [
    "#separating features and target outputs\n",
    "X = data.drop('emotion', axis = 1).values\n",
    "y = data['emotion'].values"
   ]
  },
  {
   "cell_type": "markdown",
   "metadata": {
    "colab_type": "text",
    "id": "gmyFS7Ajj4PZ"
   },
   "source": [
    "## SVM\n",
    "\n",
    "Implementing SVM with Scikit-Learn"
   ]
  },
  {
   "cell_type": "code",
   "execution_count": 8,
   "metadata": {
    "colab": {},
    "colab_type": "code",
    "id": "pq5mN2XzkAj_"
   },
   "outputs": [],
   "source": [
    "import pandas as pd\n",
    "import numpy as np\n",
    "import matplotlib.pyplot as plt\n",
    "%matplotlib inline"
   ]
  },
  {
   "cell_type": "code",
   "execution_count": 9,
   "metadata": {
    "colab": {
     "base_uri": "https://localhost:8080/",
     "height": 34
    },
    "colab_type": "code",
    "id": "4j5u2-2YkEce",
    "outputId": "58c5c4ce-99a2-41f8-b9e5-01843cf363ac"
   },
   "outputs": [
    {
     "data": {
      "text/plain": [
       "((5252, 40), (5252,))"
      ]
     },
     "execution_count": 9,
     "metadata": {},
     "output_type": "execute_result"
    }
   ],
   "source": [
    "X.shape, y.shape"
   ]
  },
  {
   "cell_type": "code",
   "execution_count": 10,
   "metadata": {
    "colab": {
     "base_uri": "https://localhost:8080/",
     "height": 51
    },
    "colab_type": "code",
    "id": "rzaQWvXjkG6a",
    "outputId": "b2e2158e-d00b-4341-c2dd-b1fd2a8b2200"
   },
   "outputs": [
    {
     "data": {
      "text/plain": [
       "array(['angry', 'calm', 'disgust', 'fear', 'happy', 'neutral', 'sad',\n",
       "       'surprised'], dtype=object)"
      ]
     },
     "execution_count": 10,
     "metadata": {},
     "output_type": "execute_result"
    }
   ],
   "source": [
    "np.unique(y)"
   ]
  },
  {
   "cell_type": "markdown",
   "metadata": {
    "colab_type": "text",
    "id": "qFIOIBCmkOof"
   },
   "source": [
    "X variable contains attributes while y variable contains corresponding labels.\n",
    "\n",
    "Once the data is divided into attributes and labels, the final preprocessing step is to divide data into training and test sets. The model_selection library of the Scikit-Learn library contains the train_test_split method that allows us to divide data into training and test sets."
   ]
  },
  {
   "cell_type": "code",
   "execution_count": 11,
   "metadata": {
    "colab": {},
    "colab_type": "code",
    "id": "y-rWEbnjkI3z"
   },
   "outputs": [],
   "source": [
    "from sklearn.model_selection import train_test_split\n",
    "\n",
    "X_train, X_test, y_train, y_test = train_test_split(X, y, test_size = 0.20)"
   ]
  },
  {
   "cell_type": "markdown",
   "metadata": {
    "colab_type": "text",
    "id": "2jBVxf-ZkTSd"
   },
   "source": [
    "It is the time to train our SVM on the training data. Scikit-Learn contains the svm library, which contains built-in classes for different SVM algorithms. Since we are going to perform a classification task, we will use the support vector classifier class, which is written as SVC in the Scikit-Learn's svm library. We have set the kernel to linear."
   ]
  },
  {
   "cell_type": "code",
   "execution_count": 12,
   "metadata": {
    "colab": {},
    "colab_type": "code",
    "id": "viKFlbezkSll"
   },
   "outputs": [],
   "source": [
    "from sklearn.svm import SVC\n",
    "\n",
    "svclassifier = SVC(kernel = 'linear')"
   ]
  },
  {
   "cell_type": "markdown",
   "metadata": {
    "colab_type": "text",
    "id": "obFMZPWqIs3C"
   },
   "source": [
    "The fit method of SVC class is called to train the algorithm on the training data, which is passed as a parameter to the fit method. Execute the following code to train the algorithm:"
   ]
  },
  {
   "cell_type": "code",
   "execution_count": 13,
   "metadata": {
    "colab": {},
    "colab_type": "code",
    "id": "LZnkHUkZkX1A"
   },
   "outputs": [
    {
     "name": "stdout",
     "output_type": "stream",
     "text": [
      "Trained model in 65.85076689720154 ms \n"
     ]
    }
   ],
   "source": [
    "import time\n",
    "\n",
    "starting_time = time.time()\n",
    "svclassifier.fit(X_train, y_train)\n",
    "print(\"Trained model in %s ms \" % str(time.time() - starting_time))"
   ]
  },
  {
   "cell_type": "markdown",
   "metadata": {
    "colab_type": "text",
    "id": "KXvzYeXYkaMb"
   },
   "source": [
    "To make predictions, the predict method of the SVC class is used."
   ]
  },
  {
   "cell_type": "code",
   "execution_count": 14,
   "metadata": {
    "colab": {},
    "colab_type": "code",
    "id": "pUad4lXgkdZR"
   },
   "outputs": [],
   "source": [
    "y_pred = svclassifier.predict(X_test)"
   ]
  },
  {
   "cell_type": "markdown",
   "metadata": {
    "colab_type": "text",
    "id": "dRd8zm49kfwn"
   },
   "source": [
    "Confusion matrix, precision, recall, and F1 measures are the most commonly used metrics for classification tasks. Scikit-Learn's metrics library contains the classification_report and confusion_matrix methods, which can be readily used to find out the values for these important metrics.\n",
    "We have used the following code for finding these metrics:"
   ]
  },
  {
   "cell_type": "code",
   "execution_count": 23,
   "metadata": {
    "colab": {},
    "colab_type": "code",
    "id": "6qfbWKKzku_Z"
   },
   "outputs": [
    {
     "name": "stdout",
     "output_type": "stream",
     "text": [
      "Classification Report:\n",
      "---------------------\n",
      "              precision    recall  f1-score   support\n",
      "\n",
      "       angry       0.18      0.23      0.20       147\n",
      "        calm       0.08      0.09      0.08        77\n",
      "     disgust       0.14      0.14      0.14       123\n",
      "        fear       0.15      0.16      0.15       143\n",
      "       happy       0.19      0.17      0.18       165\n",
      "     neutral       0.14      0.14      0.14       114\n",
      "         sad       0.22      0.19      0.20       148\n",
      "   surprised       0.13      0.10      0.12       134\n",
      "\n",
      "    accuracy                           0.16      1051\n",
      "   macro avg       0.15      0.15      0.15      1051\n",
      "weighted avg       0.16      0.16      0.16      1051\n",
      "\n",
      "\n",
      "\n",
      "SVM Model Evaluation\n",
      "--------------------\n",
      "Accuracy: 15.89%\n",
      "\n",
      "\n"
     ]
    },
    {
     "data": {
      "image/png": "[encoded data removed]",
      "text/plain": [
       "<Figure size 1000x700 with 1 Axes>"
      ]
     },
     "metadata": {},
     "output_type": "display_data"
    }
   ],
   "source": [
    "from sklearn.metrics import classification_report, confusion_matrix, accuracy_score\n",
    "import seaborn as sns\n",
    "import matplotlib.pyplot as plt\n",
    "import pandas as pd\n",
    "\n",
    "print(\"Classification Report:\")\n",
    "print(\"---------------------\")\n",
    "print(classification_report(y_test, y_pred))\n",
    "print(\"\\n\")\n",
    "\n",
    "acc = float(accuracy_score(y_test, y_pred)) * 100\n",
    "print(\"SVM Model Evaluation\")\n",
    "print(\"--------------------\")\n",
    "print(f\"Accuracy: {acc:.2f}%\")\n",
    "print(\"\\n\")\n",
    "\n",
    "plt.figure(figsize=(10, 7))\n",
    "cm = confusion_matrix(y_test, y_pred)\n",
    "df_cm = pd.DataFrame(cm)\n",
    "\n",
    "\n",
    "sns.set(font_scale=1.2)  \n",
    "ax = sns.heatmap(df_cm, \n",
    "                 annot=True, \n",
    "                 fmt='d',  \n",
    "                 cmap='Blues', \n",
    "                 cbar=False,  \n",
    "                 linewidths=0.5, \n",
    "                 linecolor='gray')  \n",
    "plt.title('Confusion Matrix for SVM Model', fontsize=16, pad=20)\n",
    "plt.xlabel('Predicted Labels', fontsize=14)\n",
    "plt.ylabel('True Labels', fontsize=14)\n",
    "\n",
    "\n",
    "plt.tight_layout()  \n",
    "plt.show()"
   ]
  },
  {
   "cell_type": "markdown",
   "metadata": {
    "colab_type": "text",
    "id": "XADzC5Cbkx6a"
   },
   "source": [
    "Now by calculating the training accuracy and comparing with testing accuracy, we can check for overfitting of data"
   ]
  },
  {
   "cell_type": "code",
   "execution_count": 16,
   "metadata": {
    "colab": {},
    "colab_type": "code",
    "id": "cPupL1MfjMVQ"
   },
   "outputs": [
    {
     "name": "stdout",
     "output_type": "stream",
     "text": [
      "----train accuracy score 77.31492501785289 ----\n",
      "----test accuracy score 74.02473834443387 ----\n"
     ]
    }
   ],
   "source": [
    "train_acc = float(svclassifier.score(X_train, y_train)*100)\n",
    "print(\"----train accuracy score %s ----\" % train_acc)\n",
    "\n",
    "test_acc = float(svclassifier.score(X_test, y_test)*100)\n",
    "print(\"----test accuracy score %s ----\" % test_acc)"
   ]
  },
  {
   "cell_type": "markdown",
   "metadata": {
    "colab_type": "text",
    "id": "0kWl4SbrtiUP"
   },
   "source": [
    "## Cross-Validation"
   ]
  },
  {
   "cell_type": "markdown",
   "metadata": {
    "colab_type": "text",
    "id": "SIsvihdMJDYO"
   },
   "source": [
    "5-fold cross validation of the dataset with the SVC classifier."
   ]
  },
  {
   "cell_type": "code",
   "execution_count": 17,
   "metadata": {
    "colab": {},
    "colab_type": "code",
    "id": "K8JwrWJ_k6qN"
   },
   "outputs": [
    {
     "name": "stdout",
     "output_type": "stream",
     "text": [
      "[0.69933397 0.72026641 0.7247619  0.71809524 0.76666667]\n"
     ]
    }
   ],
   "source": [
    "from sklearn.model_selection import cross_val_score\n",
    "\n",
    "# no. of folds cv = 5\n",
    "cv_results = cross_val_score(svclassifier, X, y, cv = 5)\n",
    "print(cv_results)"
   ]
  },
  {
   "cell_type": "markdown",
   "metadata": {
    "colab_type": "text",
    "id": "1x2ICDUKtows"
   },
   "source": [
    "## Scaling \n",
    "\n",
    "When performing the linear SVM classification, it is often helpful to normalize the training data, for example by subtracting the mean and dividing by the standard deviation, and afterwards scale the test data with the mean and standard deviation of training data."
   ]
  },
  {
   "cell_type": "code",
   "execution_count": 18,
   "metadata": {
    "colab": {
     "base_uri": "https://localhost:8080/",
     "height": 51
    },
    "colab_type": "code",
    "id": "OKhK1aW_trnZ",
    "outputId": "c1cf528c-cbb1-4760-d5c1-edf7651a12c0"
   },
   "outputs": [
    {
     "name": "stdout",
     "output_type": "stream",
     "text": [
      "Accuracy with Scaling: 0.8468125594671742\n",
      "Accuracy without Scaling: 0.7392959086584205\n"
     ]
    }
   ],
   "source": [
    "from sklearn.model_selection import train_test_split\n",
    "from sklearn.preprocessing import StandardScaler\n",
    "from sklearn.pipeline import Pipeline\n",
    "from sklearn.svm import SVC\n",
    "\n",
    "\n",
    "#splitting dataset into train/ test sets\n",
    "X_train, X_test, y_train, y_test = train_test_split(X, y, test_size = 0.20)\n",
    "\n",
    "# Setup the pipeline steps: steps\n",
    "steps = [('scaler', StandardScaler()),\n",
    "        ('SVM', SVC())]\n",
    "        \n",
    "# Create the pipeline: pipeline\n",
    "pipeline = Pipeline(steps)\n",
    "\n",
    "# Fit the pipeline to the training set: svc_scaled\n",
    "svc_scaled = pipeline.fit(X_train, y_train)\n",
    "\n",
    "# Instantiate and fit a classifier to the unscaled data\n",
    "svc_unscaled = SVC(kernel = 'linear').fit(X_train, y_train)\n",
    "\n",
    "# Compute and print metrics\n",
    "print('Accuracy with Scaling: {}'.format(svc_scaled.score(X_test, y_test)))\n",
    "print('Accuracy without Scaling: {}'.format(svc_unscaled.score(X_test, y_test)))\n"
   ]
  },
  {
   "cell_type": "markdown",
   "metadata": {
    "colab_type": "text",
    "id": "9bxO_NYuUJpN"
   },
   "source": [
    "### Generalization check\n",
    "Checking for overfitting or underfitting by comparing the training and testing scores of the model"
   ]
  },
  {
   "cell_type": "code",
   "execution_count": 19,
   "metadata": {
    "colab": {
     "base_uri": "https://localhost:8080/",
     "height": 51
    },
    "colab_type": "code",
    "id": "Ve1e2yVBivNT",
    "outputId": "46e085fa-7fe4-4a7b-da55-542f2d463c07"
   },
   "outputs": [
    {
     "name": "stdout",
     "output_type": "stream",
     "text": [
      "----train accuracy score 86.88407522018568 ----\n",
      "----test accuracy score 84.68125594671741 ----\n"
     ]
    }
   ],
   "source": [
    "train_acc = float(svc_scaled.score(X_train, y_train)*100)\n",
    "print(\"----train accuracy score %s ----\" % train_acc)\n",
    "\n",
    "test_acc = float(svc_scaled.score(X_test, y_test)*100)\n",
    "print(\"----test accuracy score %s ----\" % test_acc)"
   ]
  },
  {
   "cell_type": "code",
   "execution_count": 20,
   "metadata": {
    "colab": {},
    "colab_type": "code",
    "id": "JkMV4nVo2MBi"
   },
   "outputs": [],
   "source": [
    "scaled_predictions = svc_scaled.predict(X_test)"
   ]
  },
  {
   "cell_type": "markdown",
   "metadata": {
    "colab_type": "text",
    "id": "r_56D7h6WkOE"
   },
   "source": [
    "### Classification reports and Confusion Matrix"
   ]
  },
  {
   "cell_type": "code",
   "execution_count": 24,
   "metadata": {
    "colab": {
     "base_uri": "https://localhost:8080/",
     "height": 540
    },
    "colab_type": "code",
    "id": "oROt3FvXwMHK",
    "outputId": "58d34e5c-73fd-4f9e-fb52-9f7729523c5e"
   },
   "outputs": [
    {
     "name": "stdout",
     "output_type": "stream",
     "text": [
      "SVM Model Performance Metrics:\n",
      "==================================================\n",
      "              precision    recall  f1-score   support\n",
      "\n",
      "       angry       0.89      0.90      0.89       147\n",
      "        calm       0.58      0.87      0.70        77\n",
      "     disgust       0.84      0.84      0.84       123\n",
      "        fear       0.87      0.80      0.83       143\n",
      "       happy       0.93      0.77      0.84       165\n",
      "     neutral       0.99      0.89      0.94       114\n",
      "         sad       0.82      0.85      0.83       148\n",
      "   surprised       0.84      0.90      0.87       134\n",
      "\n",
      "    accuracy                           0.85      1051\n",
      "   macro avg       0.85      0.85      0.84      1051\n",
      "weighted avg       0.86      0.85      0.85      1051\n",
      "\n",
      "\n",
      "\n",
      "Model Accuracy: 84.68%\n",
      "==================================================\n",
      "\n",
      "\n"
     ]
    },
    {
     "data": {
      "image/png": "[encoded data removed]",
      "text/plain": [
       "<Figure size 800x600 with 2 Axes>"
      ]
     },
     "metadata": {},
     "output_type": "display_data"
    }
   ],
   "source": [
    "from sklearn.metrics import classification_report, confusion_matrix, accuracy_score\n",
    "import seaborn as sns\n",
    "import matplotlib.pyplot as plt\n",
    "import pandas as pd\n",
    "\n",
    "# Print classification report\n",
    "print(\"SVM Model Performance Metrics:\")\n",
    "print(\"=\"*50)\n",
    "print(classification_report(y_test, scaled_predictions))\n",
    "print(\"\\n\")\n",
    "\n",
    "# Calculate and display accuracy\n",
    "acc = float(accuracy_score(y_test, scaled_predictions)) * 100\n",
    "print(f\"Model Accuracy: {acc:.2f}%\")\n",
    "print(\"=\"*50)\n",
    "print(\"\\n\")\n",
    "\n",
    "# Create and display confusion matrix\n",
    "plt.figure(figsize=(8, 6))\n",
    "cm = confusion_matrix(y_test, scaled_predictions)\n",
    "df_cm = pd.DataFrame(cm)\n",
    "\n",
    "# Create heatmap with title\n",
    "heatmap = sns.heatmap(df_cm, \n",
    "                      annot=True, \n",
    "                      fmt='d',  # Display integers\n",
    "                      cmap='YlOrBr',  # Color scheme\n",
    "                      cbar=True,\n",
    "                      linewidths=0.5,\n",
    "                      linecolor='grey')\n",
    "\n",
    "# Add title and labels\n",
    "heatmap.set_title('SVM Model - Confusion Matrix', \n",
    "                 fontsize=14, \n",
    "                 pad=20)  # pad adds space above title\n",
    "heatmap.set_xlabel('Predicted Label', fontsize=12)\n",
    "heatmap.set_ylabel('True Label', fontsize=12)\n",
    "\n",
    "# Show the plot\n",
    "plt.tight_layout()\n",
    "plt.show()"
   ]
  },
  {
   "cell_type": "markdown",
   "metadata": {
    "colab_type": "text",
    "id": "k7ay4Mx3WvIN"
   },
   "source": [
    "#### Cross Validation"
   ]
  },
  {
   "cell_type": "code",
   "execution_count": 22,
   "metadata": {
    "colab": {
     "base_uri": "https://localhost:8080/",
     "height": 34
    },
    "colab_type": "code",
    "id": "Yqo9QIL82ez-",
    "outputId": "ba6f2c4f-432d-42fe-f758-21e93bf9cb60"
   },
   "outputs": [
    {
     "name": "stdout",
     "output_type": "stream",
     "text": [
      "[0.83063749 0.81826832 0.84380952 0.83619048 0.8552381 ]\n"
     ]
    }
   ],
   "source": [
    "from sklearn.model_selection import cross_val_score\n",
    "\n",
    "# no. of folds cv = 5\n",
    "cv_results = cross_val_score(svc_scaled, X, y, cv = 5)\n",
    "print(cv_results)"
   ]
  },
  {
   "cell_type": "code",
   "execution_count": null,
   "metadata": {
    "colab": {},
    "colab_type": "code",
    "id": "C7Qsgs0H8Ijx"
   },
   "outputs": [],
   "source": []
  }
 ],
 "metadata": {
  "colab": {
   "collapsed_sections": [
    "gmyFS7Ajj4PZ",
    "0kWl4SbrtiUP"
   ],
   "name": "SER-SVM.ipynb",
   "provenance": []
  },
  "kernelspec": {
   "display_name": "Python 3 (ipykernel)",
   "language": "python",
   "name": "python3"
  },
  "language_info": {
   "codemirror_mode": {
    "name": "ipython",
    "version": 3
   },
   "file_extension": ".py",
   "mimetype": "text/x-python",
   "name": "python",
   "nbconvert_exporter": "python",
   "pygments_lexer": "ipython3",
   "version": "3.11.5"
  }
 },
 "nbformat": 4,
 "nbformat_minor": 1
}
